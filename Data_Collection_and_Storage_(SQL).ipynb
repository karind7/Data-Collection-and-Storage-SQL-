{
  "nbformat": 4,
  "nbformat_minor": 0,
  "metadata": {
    "ExecuteTimeLog": [
      {
        "duration": 4,
        "start_time": "2021-07-22T12:00:12.412Z"
      },
      {
        "duration": 9,
        "start_time": "2021-07-22T12:00:12.419Z"
      },
      {
        "duration": 23,
        "start_time": "2021-07-22T12:00:12.430Z"
      },
      {
        "duration": 20,
        "start_time": "2021-07-22T12:00:12.456Z"
      },
      {
        "duration": 39,
        "start_time": "2021-07-22T12:00:12.478Z"
      },
      {
        "duration": 10,
        "start_time": "2021-07-22T12:00:12.519Z"
      },
      {
        "duration": 7,
        "start_time": "2021-07-22T12:00:12.531Z"
      },
      {
        "duration": 11,
        "start_time": "2021-07-22T12:00:12.541Z"
      },
      {
        "duration": 8,
        "start_time": "2021-07-22T12:00:12.556Z"
      },
      {
        "duration": 11,
        "start_time": "2021-07-22T12:00:12.567Z"
      },
      {
        "duration": 11,
        "start_time": "2021-07-22T12:00:12.580Z"
      },
      {
        "duration": 14,
        "start_time": "2021-07-22T12:00:12.594Z"
      },
      {
        "duration": 45,
        "start_time": "2021-07-22T12:00:12.611Z"
      },
      {
        "duration": 13,
        "start_time": "2021-07-22T12:00:12.658Z"
      },
      {
        "duration": 2092,
        "start_time": "2021-07-22T12:00:12.674Z"
      },
      {
        "duration": 16,
        "start_time": "2021-07-22T12:00:14.769Z"
      },
      {
        "duration": 311,
        "start_time": "2021-07-22T12:00:14.788Z"
      },
      {
        "duration": 21,
        "start_time": "2021-07-22T12:00:15.102Z"
      },
      {
        "duration": 45,
        "start_time": "2021-07-22T12:00:15.125Z"
      },
      {
        "duration": 7,
        "start_time": "2021-07-22T12:00:15.172Z"
      },
      {
        "duration": 3200,
        "start_time": "2021-07-23T09:24:37.783Z"
      },
      {
        "duration": 8,
        "start_time": "2021-07-23T09:24:40.985Z"
      },
      {
        "duration": 34,
        "start_time": "2021-07-23T09:24:40.996Z"
      },
      {
        "duration": 53,
        "start_time": "2021-07-23T09:24:41.033Z"
      },
      {
        "duration": 25,
        "start_time": "2021-07-23T09:24:41.088Z"
      },
      {
        "duration": 67,
        "start_time": "2021-07-23T09:24:41.115Z"
      },
      {
        "duration": 15,
        "start_time": "2021-07-23T09:24:41.185Z"
      },
      {
        "duration": 30,
        "start_time": "2021-07-23T09:24:41.202Z"
      },
      {
        "duration": 19,
        "start_time": "2021-07-23T09:24:41.286Z"
      },
      {
        "duration": 76,
        "start_time": "2021-07-23T09:24:41.308Z"
      },
      {
        "duration": 13,
        "start_time": "2021-07-23T09:24:41.387Z"
      },
      {
        "duration": 81,
        "start_time": "2021-07-23T09:24:41.403Z"
      },
      {
        "duration": 38,
        "start_time": "2021-07-23T09:24:41.486Z"
      },
      {
        "duration": 64,
        "start_time": "2021-07-23T09:24:41.526Z"
      },
      {
        "duration": 175890,
        "start_time": "2021-07-23T09:24:41.593Z"
      },
      {
        "duration": 18,
        "start_time": "2021-07-23T09:27:37.486Z"
      },
      {
        "duration": 441,
        "start_time": "2021-07-23T09:27:37.507Z"
      },
      {
        "duration": 37,
        "start_time": "2021-07-23T09:27:37.950Z"
      },
      {
        "duration": 19,
        "start_time": "2021-07-23T09:27:37.989Z"
      },
      {
        "duration": 8,
        "start_time": "2021-07-23T09:27:38.011Z"
      },
      {
        "duration": 1408,
        "start_time": "2021-07-23T10:40:29.334Z"
      },
      {
        "duration": 4,
        "start_time": "2021-07-23T10:40:30.745Z"
      },
      {
        "duration": 23,
        "start_time": "2021-07-23T10:40:30.752Z"
      },
      {
        "duration": 15,
        "start_time": "2021-07-23T10:40:30.783Z"
      },
      {
        "duration": 26,
        "start_time": "2021-07-23T10:40:30.801Z"
      },
      {
        "duration": 13,
        "start_time": "2021-07-23T10:40:30.830Z"
      },
      {
        "duration": 15,
        "start_time": "2021-07-23T10:40:30.846Z"
      },
      {
        "duration": 24,
        "start_time": "2021-07-23T10:40:30.865Z"
      },
      {
        "duration": 20,
        "start_time": "2021-07-23T10:40:30.892Z"
      },
      {
        "duration": 22,
        "start_time": "2021-07-23T10:40:30.914Z"
      },
      {
        "duration": 25,
        "start_time": "2021-07-23T10:40:30.938Z"
      },
      {
        "duration": 27,
        "start_time": "2021-07-23T10:40:30.965Z"
      },
      {
        "duration": 28,
        "start_time": "2021-07-23T10:40:30.994Z"
      },
      {
        "duration": 29,
        "start_time": "2021-07-23T10:40:31.025Z"
      },
      {
        "duration": 119082,
        "start_time": "2021-07-23T10:40:31.056Z"
      },
      {
        "duration": 15,
        "start_time": "2021-07-23T10:42:30.140Z"
      },
      {
        "duration": 346,
        "start_time": "2021-07-23T10:42:30.157Z"
      },
      {
        "duration": 20,
        "start_time": "2021-07-23T10:42:30.506Z"
      },
      {
        "duration": 31,
        "start_time": "2021-07-23T10:42:30.528Z"
      },
      {
        "duration": 22,
        "start_time": "2021-07-23T10:42:30.562Z"
      },
      {
        "duration": 363,
        "start_time": "2021-07-23T14:23:19.461Z"
      },
      {
        "duration": 1410,
        "start_time": "2021-07-23T14:23:27.916Z"
      },
      {
        "duration": 4,
        "start_time": "2021-07-23T14:23:29.329Z"
      },
      {
        "duration": 21,
        "start_time": "2021-07-23T14:23:29.336Z"
      },
      {
        "duration": 18,
        "start_time": "2021-07-23T14:23:29.359Z"
      },
      {
        "duration": 30,
        "start_time": "2021-07-23T14:23:29.380Z"
      },
      {
        "duration": 17,
        "start_time": "2021-07-23T14:23:29.412Z"
      },
      {
        "duration": 9,
        "start_time": "2021-07-23T14:23:29.432Z"
      },
      {
        "duration": 18,
        "start_time": "2021-07-23T14:23:29.443Z"
      },
      {
        "duration": 10,
        "start_time": "2021-07-23T14:23:29.466Z"
      },
      {
        "duration": 11,
        "start_time": "2021-07-23T14:23:29.479Z"
      },
      {
        "duration": 13,
        "start_time": "2021-07-23T14:23:29.493Z"
      },
      {
        "duration": 14,
        "start_time": "2021-07-23T14:23:29.508Z"
      },
      {
        "duration": 18,
        "start_time": "2021-07-23T14:23:29.525Z"
      },
      {
        "duration": 14,
        "start_time": "2021-07-23T14:23:29.546Z"
      },
      {
        "duration": 15,
        "start_time": "2021-07-23T14:23:29.562Z"
      },
      {
        "duration": 2150,
        "start_time": "2021-07-23T14:23:29.579Z"
      },
      {
        "duration": 21,
        "start_time": "2021-07-23T14:23:31.732Z"
      },
      {
        "duration": 308,
        "start_time": "2021-07-23T14:23:31.756Z"
      },
      {
        "duration": 24,
        "start_time": "2021-07-23T14:23:32.066Z"
      },
      {
        "duration": 20,
        "start_time": "2021-07-23T14:23:32.093Z"
      },
      {
        "duration": 16,
        "start_time": "2021-07-23T14:23:32.115Z"
      },
      {
        "duration": 16,
        "start_time": "2021-07-23T14:23:54.459Z"
      },
      {
        "duration": 16,
        "start_time": "2021-07-23T14:24:14.856Z"
      },
      {
        "duration": 361,
        "start_time": "2021-07-23T14:24:37.954Z"
      },
      {
        "duration": 18,
        "start_time": "2021-07-23T14:24:48.380Z"
      },
      {
        "duration": 4,
        "start_time": "2021-07-23T14:25:16.010Z"
      },
      {
        "duration": 11,
        "start_time": "2021-07-23T14:25:16.017Z"
      },
      {
        "duration": 20,
        "start_time": "2021-07-23T14:25:16.031Z"
      },
      {
        "duration": 18,
        "start_time": "2021-07-23T14:25:16.054Z"
      },
      {
        "duration": 29,
        "start_time": "2021-07-23T14:25:16.075Z"
      },
      {
        "duration": 17,
        "start_time": "2021-07-23T14:25:16.106Z"
      },
      {
        "duration": 19,
        "start_time": "2021-07-23T14:25:16.126Z"
      },
      {
        "duration": 29,
        "start_time": "2021-07-23T14:25:16.148Z"
      },
      {
        "duration": 18,
        "start_time": "2021-07-23T14:25:16.182Z"
      },
      {
        "duration": 21,
        "start_time": "2021-07-23T14:25:16.204Z"
      },
      {
        "duration": 38,
        "start_time": "2021-07-23T14:25:16.227Z"
      },
      {
        "duration": 19,
        "start_time": "2021-07-23T14:25:16.267Z"
      },
      {
        "duration": 21,
        "start_time": "2021-07-23T14:25:16.289Z"
      },
      {
        "duration": 29,
        "start_time": "2021-07-23T14:25:16.313Z"
      },
      {
        "duration": 12,
        "start_time": "2021-07-23T14:25:16.345Z"
      },
      {
        "duration": 38,
        "start_time": "2021-07-23T14:25:16.359Z"
      },
      {
        "duration": 19,
        "start_time": "2021-07-23T14:25:16.400Z"
      },
      {
        "duration": 48,
        "start_time": "2021-07-23T14:25:16.421Z"
      },
      {
        "duration": 2340,
        "start_time": "2021-07-23T14:25:16.471Z"
      },
      {
        "duration": 14,
        "start_time": "2021-07-23T14:25:18.813Z"
      },
      {
        "duration": 315,
        "start_time": "2021-07-23T14:25:18.829Z"
      },
      {
        "duration": 20,
        "start_time": "2021-07-23T14:25:19.146Z"
      },
      {
        "duration": 19,
        "start_time": "2021-07-23T14:25:19.182Z"
      },
      {
        "duration": 27,
        "start_time": "2021-07-23T14:25:19.203Z"
      },
      {
        "duration": 9,
        "start_time": "2021-07-23T14:26:48.364Z"
      },
      {
        "duration": 17,
        "start_time": "2021-07-23T14:26:59.353Z"
      },
      {
        "duration": 9,
        "start_time": "2021-07-23T14:33:18.040Z"
      },
      {
        "duration": 12,
        "start_time": "2021-07-23T14:33:36.940Z"
      },
      {
        "duration": 5,
        "start_time": "2021-07-23T14:33:44.877Z"
      },
      {
        "duration": 9,
        "start_time": "2021-07-23T14:33:44.885Z"
      },
      {
        "duration": 22,
        "start_time": "2021-07-23T14:33:44.897Z"
      },
      {
        "duration": 25,
        "start_time": "2021-07-23T14:33:44.921Z"
      },
      {
        "duration": 27,
        "start_time": "2021-07-23T14:33:44.948Z"
      },
      {
        "duration": 11,
        "start_time": "2021-07-23T14:33:44.977Z"
      },
      {
        "duration": 10,
        "start_time": "2021-07-23T14:33:44.990Z"
      },
      {
        "duration": 28,
        "start_time": "2021-07-23T14:33:45.002Z"
      },
      {
        "duration": 10,
        "start_time": "2021-07-23T14:33:45.035Z"
      },
      {
        "duration": 35,
        "start_time": "2021-07-23T14:33:45.049Z"
      },
      {
        "duration": 20,
        "start_time": "2021-07-23T14:33:45.087Z"
      },
      {
        "duration": 24,
        "start_time": "2021-07-23T14:33:45.110Z"
      },
      {
        "duration": 13,
        "start_time": "2021-07-23T14:33:45.136Z"
      },
      {
        "duration": 36,
        "start_time": "2021-07-23T14:33:45.151Z"
      },
      {
        "duration": 11,
        "start_time": "2021-07-23T14:33:45.189Z"
      },
      {
        "duration": 16,
        "start_time": "2021-07-23T14:33:45.202Z"
      },
      {
        "duration": 14,
        "start_time": "2021-07-23T14:33:45.221Z"
      },
      {
        "duration": 12,
        "start_time": "2021-07-23T14:33:45.238Z"
      },
      {
        "duration": 18,
        "start_time": "2021-07-23T14:33:45.283Z"
      },
      {
        "duration": 20,
        "start_time": "2021-07-23T14:33:45.303Z"
      },
      {
        "duration": 2132,
        "start_time": "2021-07-23T14:33:45.325Z"
      },
      {
        "duration": 31,
        "start_time": "2021-07-23T14:33:47.459Z"
      },
      {
        "duration": 324,
        "start_time": "2021-07-23T14:33:47.492Z"
      },
      {
        "duration": 20,
        "start_time": "2021-07-23T14:33:47.818Z"
      },
      {
        "duration": 43,
        "start_time": "2021-07-23T14:33:47.841Z"
      },
      {
        "duration": 7,
        "start_time": "2021-07-23T14:33:47.886Z"
      },
      {
        "duration": 1119,
        "start_time": "2021-07-23T14:37:44.301Z"
      },
      {
        "duration": 145,
        "start_time": "2021-07-23T14:39:05.663Z"
      },
      {
        "duration": 103,
        "start_time": "2021-07-23T14:43:49.031Z"
      },
      {
        "duration": 133,
        "start_time": "2021-07-23T14:43:54.568Z"
      },
      {
        "duration": 130,
        "start_time": "2021-07-23T14:44:06.834Z"
      },
      {
        "duration": 349,
        "start_time": "2021-07-23T14:45:38.828Z"
      },
      {
        "duration": 463,
        "start_time": "2021-07-23T14:45:45.388Z"
      },
      {
        "duration": 698,
        "start_time": "2021-07-23T14:45:58.154Z"
      },
      {
        "duration": 4989,
        "start_time": "2021-07-23T14:46:05.772Z"
      },
      {
        "duration": 7595,
        "start_time": "2021-07-23T14:47:20.310Z"
      },
      {
        "duration": 9002,
        "start_time": "2021-07-23T14:47:54.300Z"
      },
      {
        "duration": 727,
        "start_time": "2021-07-23T14:48:37.455Z"
      },
      {
        "duration": 10947,
        "start_time": "2021-07-23T14:49:16.477Z"
      },
      {
        "duration": 9940,
        "start_time": "2021-07-23T14:49:46.074Z"
      },
      {
        "duration": 278,
        "start_time": "2021-07-23T14:51:23.744Z"
      },
      {
        "duration": 111,
        "start_time": "2021-07-23T14:51:58.730Z"
      },
      {
        "duration": 317,
        "start_time": "2021-07-23T14:52:05.851Z"
      },
      {
        "duration": 247,
        "start_time": "2021-07-23T14:52:09.278Z"
      },
      {
        "duration": 251,
        "start_time": "2021-07-23T14:53:01.312Z"
      },
      {
        "duration": 305,
        "start_time": "2021-07-23T14:53:16.515Z"
      },
      {
        "duration": 297,
        "start_time": "2021-07-23T14:53:28.406Z"
      },
      {
        "duration": 284,
        "start_time": "2021-07-23T14:54:22.054Z"
      },
      {
        "duration": 299,
        "start_time": "2021-07-23T14:54:46.948Z"
      },
      {
        "duration": 131,
        "start_time": "2021-07-23T14:55:18.211Z"
      },
      {
        "duration": 175,
        "start_time": "2021-07-23T14:55:32.633Z"
      },
      {
        "duration": 832,
        "start_time": "2021-07-23T14:55:41.179Z"
      },
      {
        "duration": 279,
        "start_time": "2021-07-23T14:56:11.392Z"
      },
      {
        "duration": 268,
        "start_time": "2021-07-23T14:56:31.595Z"
      },
      {
        "duration": 293,
        "start_time": "2021-07-23T14:57:21.664Z"
      },
      {
        "duration": 428,
        "start_time": "2021-07-23T14:57:31.109Z"
      },
      {
        "duration": 205,
        "start_time": "2021-07-23T15:05:30.671Z"
      },
      {
        "duration": 519,
        "start_time": "2021-07-23T15:05:57.704Z"
      },
      {
        "duration": 3001,
        "start_time": "2021-07-23T15:06:04.158Z"
      },
      {
        "duration": 460,
        "start_time": "2021-07-23T15:06:14.640Z"
      },
      {
        "duration": 431,
        "start_time": "2021-07-23T15:06:28.771Z"
      },
      {
        "duration": 386,
        "start_time": "2021-07-23T15:06:38.799Z"
      },
      {
        "duration": 275,
        "start_time": "2021-07-23T15:06:50.343Z"
      },
      {
        "duration": 234,
        "start_time": "2021-07-23T15:06:57.515Z"
      },
      {
        "duration": 1445,
        "start_time": "2021-07-23T15:22:36.581Z"
      },
      {
        "duration": 299,
        "start_time": "2021-07-23T15:22:49.794Z"
      },
      {
        "duration": 220,
        "start_time": "2021-07-23T15:23:28.522Z"
      },
      {
        "duration": 283,
        "start_time": "2021-07-23T15:23:34.307Z"
      },
      {
        "duration": 1543,
        "start_time": "2021-07-24T08:29:27.696Z"
      },
      {
        "duration": 8,
        "start_time": "2021-07-24T08:29:29.242Z"
      },
      {
        "duration": 25,
        "start_time": "2021-07-24T08:29:29.253Z"
      },
      {
        "duration": 16,
        "start_time": "2021-07-24T08:29:29.281Z"
      },
      {
        "duration": 18,
        "start_time": "2021-07-24T08:29:29.300Z"
      },
      {
        "duration": 14,
        "start_time": "2021-07-24T08:29:29.321Z"
      },
      {
        "duration": 15,
        "start_time": "2021-07-24T08:29:29.338Z"
      },
      {
        "duration": 36,
        "start_time": "2021-07-24T08:29:29.356Z"
      },
      {
        "duration": 10,
        "start_time": "2021-07-24T08:29:29.397Z"
      },
      {
        "duration": 20,
        "start_time": "2021-07-24T08:29:29.410Z"
      },
      {
        "duration": 17,
        "start_time": "2021-07-24T08:29:29.433Z"
      },
      {
        "duration": 44,
        "start_time": "2021-07-24T08:29:29.452Z"
      },
      {
        "duration": 17,
        "start_time": "2021-07-24T08:29:29.499Z"
      },
      {
        "duration": 22,
        "start_time": "2021-07-24T08:29:29.518Z"
      },
      {
        "duration": 11,
        "start_time": "2021-07-24T08:29:29.542Z"
      },
      {
        "duration": 18,
        "start_time": "2021-07-24T08:29:29.583Z"
      },
      {
        "duration": 9,
        "start_time": "2021-07-24T08:29:29.604Z"
      },
      {
        "duration": 12,
        "start_time": "2021-07-24T08:29:29.615Z"
      },
      {
        "duration": 53,
        "start_time": "2021-07-24T08:29:29.630Z"
      },
      {
        "duration": 16,
        "start_time": "2021-07-24T08:29:29.686Z"
      },
      {
        "duration": 247,
        "start_time": "2021-07-24T08:29:29.704Z"
      },
      {
        "duration": 14,
        "start_time": "2021-07-24T08:29:29.953Z"
      },
      {
        "duration": 107661,
        "start_time": "2021-07-24T08:29:29.969Z"
      },
      {
        "duration": 193,
        "start_time": "2021-07-24T08:31:17.632Z"
      },
      {
        "duration": 18,
        "start_time": "2021-07-24T08:31:17.828Z"
      },
      {
        "duration": 33,
        "start_time": "2021-07-24T08:31:17.849Z"
      },
      {
        "duration": 6,
        "start_time": "2021-07-24T08:31:17.886Z"
      },
      {
        "duration": 1375,
        "start_time": "2021-07-24T16:18:39.552Z"
      },
      {
        "duration": 5,
        "start_time": "2021-07-24T16:18:40.929Z"
      },
      {
        "duration": 26,
        "start_time": "2021-07-24T16:18:40.937Z"
      },
      {
        "duration": 29,
        "start_time": "2021-07-24T16:18:40.965Z"
      },
      {
        "duration": 75,
        "start_time": "2021-07-24T16:18:40.997Z"
      },
      {
        "duration": 17,
        "start_time": "2021-07-24T16:18:41.075Z"
      },
      {
        "duration": 25,
        "start_time": "2021-07-24T16:18:41.094Z"
      },
      {
        "duration": 30,
        "start_time": "2021-07-24T16:18:41.123Z"
      },
      {
        "duration": 20,
        "start_time": "2021-07-24T16:18:41.157Z"
      },
      {
        "duration": 20,
        "start_time": "2021-07-24T16:18:41.180Z"
      },
      {
        "duration": 32,
        "start_time": "2021-07-24T16:18:41.203Z"
      },
      {
        "duration": 12,
        "start_time": "2021-07-24T16:18:41.238Z"
      },
      {
        "duration": 20,
        "start_time": "2021-07-24T16:18:41.252Z"
      },
      {
        "duration": 29,
        "start_time": "2021-07-24T16:18:41.275Z"
      },
      {
        "duration": 15,
        "start_time": "2021-07-24T16:18:41.307Z"
      },
      {
        "duration": 24,
        "start_time": "2021-07-24T16:18:41.325Z"
      },
      {
        "duration": 12,
        "start_time": "2021-07-24T16:18:41.356Z"
      },
      {
        "duration": 11,
        "start_time": "2021-07-24T16:18:41.371Z"
      },
      {
        "duration": 32,
        "start_time": "2021-07-24T16:18:41.385Z"
      },
      {
        "duration": 45,
        "start_time": "2021-07-24T16:18:41.420Z"
      },
      {
        "duration": 242,
        "start_time": "2021-07-24T16:18:41.468Z"
      },
      {
        "duration": 15,
        "start_time": "2021-07-24T16:18:41.713Z"
      },
      {
        "duration": 309,
        "start_time": "2021-07-24T16:18:41.734Z"
      },
      {
        "duration": 195,
        "start_time": "2021-07-24T16:18:42.046Z"
      },
      {
        "duration": 34,
        "start_time": "2021-07-24T16:18:42.244Z"
      },
      {
        "duration": 19,
        "start_time": "2021-07-24T16:18:42.280Z"
      },
      {
        "duration": 7,
        "start_time": "2021-07-24T16:18:42.301Z"
      },
      {
        "duration": 1389,
        "start_time": "2021-07-24T17:58:46.241Z"
      },
      {
        "duration": 5,
        "start_time": "2021-07-24T17:58:47.632Z"
      },
      {
        "duration": 31,
        "start_time": "2021-07-24T17:58:47.640Z"
      },
      {
        "duration": 23,
        "start_time": "2021-07-24T17:58:47.674Z"
      },
      {
        "duration": 71,
        "start_time": "2021-07-24T17:58:47.700Z"
      },
      {
        "duration": 21,
        "start_time": "2021-07-24T17:58:47.773Z"
      },
      {
        "duration": 19,
        "start_time": "2021-07-24T17:58:47.797Z"
      },
      {
        "duration": 36,
        "start_time": "2021-07-24T17:58:47.822Z"
      },
      {
        "duration": 16,
        "start_time": "2021-07-24T17:58:47.861Z"
      },
      {
        "duration": 27,
        "start_time": "2021-07-24T17:58:47.879Z"
      },
      {
        "duration": 37,
        "start_time": "2021-07-24T17:58:47.908Z"
      },
      {
        "duration": 28,
        "start_time": "2021-07-24T17:58:47.948Z"
      },
      {
        "duration": 19,
        "start_time": "2021-07-24T17:58:47.979Z"
      },
      {
        "duration": 36,
        "start_time": "2021-07-24T17:58:48.000Z"
      },
      {
        "duration": 16,
        "start_time": "2021-07-24T17:58:48.038Z"
      },
      {
        "duration": 37,
        "start_time": "2021-07-24T17:58:48.056Z"
      },
      {
        "duration": 35,
        "start_time": "2021-07-24T17:58:48.096Z"
      },
      {
        "duration": 21,
        "start_time": "2021-07-24T17:58:48.133Z"
      },
      {
        "duration": 23,
        "start_time": "2021-07-24T17:58:48.157Z"
      },
      {
        "duration": 20,
        "start_time": "2021-07-24T17:58:48.182Z"
      },
      {
        "duration": 240,
        "start_time": "2021-07-24T17:58:48.205Z"
      },
      {
        "duration": 15,
        "start_time": "2021-07-24T17:58:48.456Z"
      },
      {
        "duration": 344,
        "start_time": "2021-07-24T17:58:48.474Z"
      },
      {
        "duration": 192,
        "start_time": "2021-07-24T17:58:48.820Z"
      },
      {
        "duration": 23,
        "start_time": "2021-07-24T17:58:49.014Z"
      },
      {
        "duration": 30,
        "start_time": "2021-07-24T17:58:49.040Z"
      },
      {
        "duration": 14,
        "start_time": "2021-07-24T17:58:49.072Z"
      },
      {
        "duration": 1452,
        "start_time": "2021-07-24T18:20:47.323Z"
      },
      {
        "duration": 4,
        "start_time": "2021-07-24T18:20:48.778Z"
      },
      {
        "duration": 21,
        "start_time": "2021-07-24T18:20:48.785Z"
      },
      {
        "duration": 23,
        "start_time": "2021-07-24T18:20:48.808Z"
      },
      {
        "duration": 48,
        "start_time": "2021-07-24T18:20:48.833Z"
      },
      {
        "duration": 16,
        "start_time": "2021-07-24T18:20:48.883Z"
      },
      {
        "duration": 11,
        "start_time": "2021-07-24T18:20:48.901Z"
      },
      {
        "duration": 17,
        "start_time": "2021-07-24T18:20:48.916Z"
      },
      {
        "duration": 18,
        "start_time": "2021-07-24T18:20:48.937Z"
      },
      {
        "duration": 8,
        "start_time": "2021-07-24T18:20:48.958Z"
      },
      {
        "duration": 18,
        "start_time": "2021-07-24T18:20:48.969Z"
      },
      {
        "duration": 15,
        "start_time": "2021-07-24T18:20:48.990Z"
      },
      {
        "duration": 19,
        "start_time": "2021-07-24T18:20:49.007Z"
      },
      {
        "duration": 44,
        "start_time": "2021-07-24T18:20:49.028Z"
      },
      {
        "duration": 11,
        "start_time": "2021-07-24T18:20:49.075Z"
      },
      {
        "duration": 22,
        "start_time": "2021-07-24T18:20:49.090Z"
      },
      {
        "duration": 42,
        "start_time": "2021-07-24T18:20:49.115Z"
      },
      {
        "duration": 14,
        "start_time": "2021-07-24T18:20:49.160Z"
      },
      {
        "duration": 24,
        "start_time": "2021-07-24T18:20:49.177Z"
      },
      {
        "duration": 53,
        "start_time": "2021-07-24T18:20:49.204Z"
      },
      {
        "duration": 240,
        "start_time": "2021-07-24T18:20:49.260Z"
      },
      {
        "duration": 15,
        "start_time": "2021-07-24T18:20:49.503Z"
      },
      {
        "duration": 328,
        "start_time": "2021-07-24T18:20:49.524Z"
      },
      {
        "duration": 186,
        "start_time": "2021-07-24T18:20:49.856Z"
      },
      {
        "duration": 31,
        "start_time": "2021-07-24T18:20:50.046Z"
      },
      {
        "duration": 19,
        "start_time": "2021-07-24T18:20:50.079Z"
      },
      {
        "duration": 17,
        "start_time": "2021-07-24T18:20:50.101Z"
      },
      {
        "duration": 310,
        "start_time": "2021-07-24T21:10:01.816Z"
      },
      {
        "duration": 1058,
        "start_time": "2021-07-24T21:10:04.249Z"
      },
      {
        "duration": 7,
        "start_time": "2021-07-24T21:10:05.308Z"
      },
      {
        "duration": 18,
        "start_time": "2021-07-24T21:10:05.317Z"
      },
      {
        "duration": 18,
        "start_time": "2021-07-24T21:10:05.337Z"
      },
      {
        "duration": 26,
        "start_time": "2021-07-24T21:10:05.356Z"
      },
      {
        "duration": 10,
        "start_time": "2021-07-24T21:10:05.383Z"
      },
      {
        "duration": 8,
        "start_time": "2021-07-24T21:10:05.394Z"
      },
      {
        "duration": 12,
        "start_time": "2021-07-24T21:10:05.404Z"
      },
      {
        "duration": 6,
        "start_time": "2021-07-24T21:10:05.419Z"
      },
      {
        "duration": 6,
        "start_time": "2021-07-24T21:10:05.427Z"
      },
      {
        "duration": 11,
        "start_time": "2021-07-24T21:10:05.435Z"
      },
      {
        "duration": 8,
        "start_time": "2021-07-24T21:10:05.447Z"
      },
      {
        "duration": 8,
        "start_time": "2021-07-24T21:10:05.457Z"
      },
      {
        "duration": 13,
        "start_time": "2021-07-24T21:10:05.466Z"
      },
      {
        "duration": 8,
        "start_time": "2021-07-24T21:10:05.481Z"
      },
      {
        "duration": 12,
        "start_time": "2021-07-24T21:10:05.491Z"
      },
      {
        "duration": 10,
        "start_time": "2021-07-24T21:10:05.504Z"
      },
      {
        "duration": 30,
        "start_time": "2021-07-24T21:10:05.515Z"
      },
      {
        "duration": 8,
        "start_time": "2021-07-24T21:10:05.546Z"
      },
      {
        "duration": 17,
        "start_time": "2021-07-24T21:10:05.556Z"
      },
      {
        "duration": 10,
        "start_time": "2021-07-24T21:10:05.575Z"
      },
      {
        "duration": 154,
        "start_time": "2021-07-24T21:10:05.587Z"
      },
      {
        "duration": 8,
        "start_time": "2021-07-24T21:10:05.743Z"
      },
      {
        "duration": 178,
        "start_time": "2021-07-24T21:10:05.753Z"
      },
      {
        "duration": 114,
        "start_time": "2021-07-24T21:10:05.933Z"
      },
      {
        "duration": 13,
        "start_time": "2021-07-24T21:10:06.049Z"
      },
      {
        "duration": 11,
        "start_time": "2021-07-24T21:10:06.065Z"
      },
      {
        "duration": 7,
        "start_time": "2021-07-24T21:10:06.078Z"
      },
      {
        "duration": 139,
        "start_time": "2021-07-24T21:11:50.346Z"
      },
      {
        "duration": 143,
        "start_time": "2021-07-24T21:12:46.000Z"
      },
      {
        "duration": 132,
        "start_time": "2021-07-24T21:12:53.194Z"
      },
      {
        "duration": 142,
        "start_time": "2021-07-24T21:13:01.142Z"
      },
      {
        "duration": 137,
        "start_time": "2021-07-24T21:13:11.528Z"
      },
      {
        "duration": 137,
        "start_time": "2021-07-24T21:13:29.873Z"
      },
      {
        "duration": 201,
        "start_time": "2021-07-24T21:13:46.199Z"
      },
      {
        "duration": 135,
        "start_time": "2021-07-24T21:13:52.580Z"
      },
      {
        "duration": 134,
        "start_time": "2021-07-24T21:15:19.556Z"
      },
      {
        "duration": 141,
        "start_time": "2021-07-24T21:15:25.475Z"
      },
      {
        "duration": 105,
        "start_time": "2021-07-24T21:15:42.961Z"
      },
      {
        "duration": 154,
        "start_time": "2021-07-24T21:15:50.594Z"
      },
      {
        "duration": 136,
        "start_time": "2021-07-24T21:15:59.524Z"
      },
      {
        "duration": 134,
        "start_time": "2021-07-24T21:16:09.163Z"
      },
      {
        "duration": 1022,
        "start_time": "2021-07-24T21:16:22.629Z"
      },
      {
        "duration": 7,
        "start_time": "2021-07-24T21:16:23.653Z"
      },
      {
        "duration": 16,
        "start_time": "2021-07-24T21:16:23.663Z"
      },
      {
        "duration": 17,
        "start_time": "2021-07-24T21:16:23.681Z"
      },
      {
        "duration": 27,
        "start_time": "2021-07-24T21:16:23.700Z"
      },
      {
        "duration": 10,
        "start_time": "2021-07-24T21:16:23.728Z"
      },
      {
        "duration": 5,
        "start_time": "2021-07-24T21:16:23.740Z"
      },
      {
        "duration": 11,
        "start_time": "2021-07-24T21:16:23.747Z"
      },
      {
        "duration": 6,
        "start_time": "2021-07-24T21:16:23.762Z"
      },
      {
        "duration": 6,
        "start_time": "2021-07-24T21:16:23.770Z"
      },
      {
        "duration": 12,
        "start_time": "2021-07-24T21:16:23.778Z"
      },
      {
        "duration": 7,
        "start_time": "2021-07-24T21:16:23.792Z"
      },
      {
        "duration": 40,
        "start_time": "2021-07-24T21:16:23.801Z"
      },
      {
        "duration": 12,
        "start_time": "2021-07-24T21:16:23.843Z"
      },
      {
        "duration": 9,
        "start_time": "2021-07-24T21:16:23.857Z"
      },
      {
        "duration": 11,
        "start_time": "2021-07-24T21:16:23.868Z"
      },
      {
        "duration": 10,
        "start_time": "2021-07-24T21:16:23.881Z"
      },
      {
        "duration": 7,
        "start_time": "2021-07-24T21:16:23.893Z"
      },
      {
        "duration": 46,
        "start_time": "2021-07-24T21:16:23.901Z"
      },
      {
        "duration": 12,
        "start_time": "2021-07-24T21:16:23.948Z"
      },
      {
        "duration": 10,
        "start_time": "2021-07-24T21:16:23.962Z"
      },
      {
        "duration": 149,
        "start_time": "2021-07-24T21:16:23.974Z"
      },
      {
        "duration": 17,
        "start_time": "2021-07-24T21:16:24.125Z"
      },
      {
        "duration": 181,
        "start_time": "2021-07-24T21:16:24.144Z"
      },
      {
        "duration": 105,
        "start_time": "2021-07-24T21:16:24.327Z"
      },
      {
        "duration": 17,
        "start_time": "2021-07-24T21:16:24.434Z"
      },
      {
        "duration": 11,
        "start_time": "2021-07-24T21:16:24.454Z"
      },
      {
        "duration": 5,
        "start_time": "2021-07-24T21:16:24.466Z"
      },
      {
        "duration": 117,
        "start_time": "2021-07-24T21:17:57.410Z"
      },
      {
        "duration": 983,
        "start_time": "2021-07-24T21:18:08.983Z"
      },
      {
        "duration": 4,
        "start_time": "2021-07-24T21:18:09.968Z"
      },
      {
        "duration": 20,
        "start_time": "2021-07-24T21:18:09.974Z"
      },
      {
        "duration": 18,
        "start_time": "2021-07-24T21:18:09.997Z"
      },
      {
        "duration": 27,
        "start_time": "2021-07-24T21:18:10.018Z"
      },
      {
        "duration": 12,
        "start_time": "2021-07-24T21:18:10.048Z"
      },
      {
        "duration": 7,
        "start_time": "2021-07-24T21:18:10.062Z"
      },
      {
        "duration": 18,
        "start_time": "2021-07-24T21:18:10.071Z"
      },
      {
        "duration": 9,
        "start_time": "2021-07-24T21:18:10.093Z"
      },
      {
        "duration": 9,
        "start_time": "2021-07-24T21:18:10.105Z"
      },
      {
        "duration": 14,
        "start_time": "2021-07-24T21:18:10.141Z"
      },
      {
        "duration": 7,
        "start_time": "2021-07-24T21:18:10.157Z"
      },
      {
        "duration": 8,
        "start_time": "2021-07-24T21:18:10.165Z"
      },
      {
        "duration": 13,
        "start_time": "2021-07-24T21:18:10.174Z"
      },
      {
        "duration": 8,
        "start_time": "2021-07-24T21:18:10.188Z"
      },
      {
        "duration": 10,
        "start_time": "2021-07-24T21:18:10.197Z"
      },
      {
        "duration": 40,
        "start_time": "2021-07-24T21:18:10.209Z"
      },
      {
        "duration": 6,
        "start_time": "2021-07-24T21:18:10.251Z"
      },
      {
        "duration": 7,
        "start_time": "2021-07-24T21:18:10.258Z"
      },
      {
        "duration": 11,
        "start_time": "2021-07-24T21:18:10.267Z"
      },
      {
        "duration": 11,
        "start_time": "2021-07-24T21:18:10.279Z"
      },
      {
        "duration": 164,
        "start_time": "2021-07-24T21:18:10.292Z"
      },
      {
        "duration": 9,
        "start_time": "2021-07-24T21:18:10.458Z"
      },
      {
        "duration": 191,
        "start_time": "2021-07-24T21:18:10.469Z"
      },
      {
        "duration": 109,
        "start_time": "2021-07-24T21:18:10.662Z"
      },
      {
        "duration": 18,
        "start_time": "2021-07-24T21:18:10.773Z"
      },
      {
        "duration": 12,
        "start_time": "2021-07-24T21:18:10.794Z"
      },
      {
        "duration": 9,
        "start_time": "2021-07-24T21:18:10.808Z"
      },
      {
        "duration": 99,
        "start_time": "2021-07-24T21:19:39.909Z"
      },
      {
        "duration": 3,
        "start_time": "2021-07-24T21:19:49.818Z"
      },
      {
        "duration": 7,
        "start_time": "2021-07-24T21:19:49.823Z"
      },
      {
        "duration": 18,
        "start_time": "2021-07-24T21:19:49.832Z"
      },
      {
        "duration": 18,
        "start_time": "2021-07-24T21:19:49.852Z"
      },
      {
        "duration": 27,
        "start_time": "2021-07-24T21:19:49.872Z"
      },
      {
        "duration": 6,
        "start_time": "2021-07-24T21:19:49.901Z"
      },
      {
        "duration": 6,
        "start_time": "2021-07-24T21:19:49.908Z"
      },
      {
        "duration": 11,
        "start_time": "2021-07-24T21:19:49.916Z"
      },
      {
        "duration": 6,
        "start_time": "2021-07-24T21:19:49.929Z"
      },
      {
        "duration": 5,
        "start_time": "2021-07-24T21:19:49.937Z"
      },
      {
        "duration": 13,
        "start_time": "2021-07-24T21:19:49.944Z"
      },
      {
        "duration": 6,
        "start_time": "2021-07-24T21:19:49.959Z"
      },
      {
        "duration": 6,
        "start_time": "2021-07-24T21:19:49.967Z"
      },
      {
        "duration": 13,
        "start_time": "2021-07-24T21:19:49.974Z"
      },
      {
        "duration": 7,
        "start_time": "2021-07-24T21:19:49.989Z"
      },
      {
        "duration": 9,
        "start_time": "2021-07-24T21:19:49.997Z"
      },
      {
        "duration": 38,
        "start_time": "2021-07-24T21:19:50.008Z"
      },
      {
        "duration": 6,
        "start_time": "2021-07-24T21:19:50.048Z"
      },
      {
        "duration": 16,
        "start_time": "2021-07-24T21:19:50.056Z"
      },
      {
        "duration": 14,
        "start_time": "2021-07-24T21:19:50.073Z"
      },
      {
        "duration": 11,
        "start_time": "2021-07-24T21:19:50.089Z"
      },
      {
        "duration": 142,
        "start_time": "2021-07-24T21:19:50.101Z"
      },
      {
        "duration": 10,
        "start_time": "2021-07-24T21:19:50.245Z"
      },
      {
        "duration": 184,
        "start_time": "2021-07-24T21:19:50.256Z"
      },
      {
        "duration": 113,
        "start_time": "2021-07-24T21:19:50.442Z"
      },
      {
        "duration": 13,
        "start_time": "2021-07-24T21:19:50.556Z"
      },
      {
        "duration": 12,
        "start_time": "2021-07-24T21:19:50.571Z"
      },
      {
        "duration": 4,
        "start_time": "2021-07-24T21:19:50.585Z"
      },
      {
        "duration": 131,
        "start_time": "2021-07-24T21:20:32.675Z"
      },
      {
        "duration": 114,
        "start_time": "2021-07-24T21:20:43.212Z"
      },
      {
        "duration": 184,
        "start_time": "2021-07-24T21:20:50.218Z"
      },
      {
        "duration": 127,
        "start_time": "2021-07-24T21:20:54.383Z"
      },
      {
        "duration": 151,
        "start_time": "2021-07-24T21:21:02.940Z"
      },
      {
        "duration": 170,
        "start_time": "2021-07-24T21:21:14.054Z"
      },
      {
        "duration": 159,
        "start_time": "2021-07-24T21:21:24.908Z"
      },
      {
        "duration": 137,
        "start_time": "2021-07-24T21:21:38.168Z"
      },
      {
        "duration": 1802,
        "start_time": "2021-07-24T22:07:44.935Z"
      },
      {
        "duration": 4,
        "start_time": "2021-07-24T22:07:46.740Z"
      },
      {
        "duration": 24,
        "start_time": "2021-07-24T22:07:46.747Z"
      },
      {
        "duration": 17,
        "start_time": "2021-07-24T22:07:46.774Z"
      },
      {
        "duration": 33,
        "start_time": "2021-07-24T22:07:46.793Z"
      },
      {
        "duration": 15,
        "start_time": "2021-07-24T22:07:46.829Z"
      },
      {
        "duration": 11,
        "start_time": "2021-07-24T22:07:46.847Z"
      },
      {
        "duration": 18,
        "start_time": "2021-07-24T22:07:46.870Z"
      },
      {
        "duration": 11,
        "start_time": "2021-07-24T22:07:46.893Z"
      },
      {
        "duration": 10,
        "start_time": "2021-07-24T22:07:46.907Z"
      },
      {
        "duration": 59,
        "start_time": "2021-07-24T22:07:46.920Z"
      },
      {
        "duration": 12,
        "start_time": "2021-07-24T22:07:46.982Z"
      },
      {
        "duration": 10,
        "start_time": "2021-07-24T22:07:46.996Z"
      },
      {
        "duration": 18,
        "start_time": "2021-07-24T22:07:47.008Z"
      },
      {
        "duration": 47,
        "start_time": "2021-07-24T22:07:47.028Z"
      },
      {
        "duration": 15,
        "start_time": "2021-07-24T22:07:47.078Z"
      },
      {
        "duration": 16,
        "start_time": "2021-07-24T22:07:47.096Z"
      },
      {
        "duration": 10,
        "start_time": "2021-07-24T22:07:47.114Z"
      },
      {
        "duration": 10,
        "start_time": "2021-07-24T22:07:47.166Z"
      },
      {
        "duration": 18,
        "start_time": "2021-07-24T22:07:47.179Z"
      },
      {
        "duration": 16,
        "start_time": "2021-07-24T22:07:47.199Z"
      },
      {
        "duration": 353,
        "start_time": "2021-07-24T22:07:47.217Z"
      },
      {
        "duration": 15,
        "start_time": "2021-07-24T22:07:47.574Z"
      },
      {
        "duration": 345,
        "start_time": "2021-07-24T22:07:47.592Z"
      },
      {
        "duration": 291,
        "start_time": "2021-07-24T22:07:47.940Z"
      },
      {
        "duration": 34,
        "start_time": "2021-07-24T22:07:48.233Z"
      },
      {
        "duration": 22,
        "start_time": "2021-07-24T22:07:48.270Z"
      },
      {
        "duration": 9,
        "start_time": "2021-07-24T22:07:48.294Z"
      }
    ],
    "colab": {
      "name": "Data Collection and Storage (SQL).ipynb",
      "provenance": [],
      "collapsed_sections": [],
      "include_colab_link": true
    },
    "kernelspec": {
      "display_name": "Python 3 (ipykernel)",
      "language": "python",
      "name": "python3"
    },
    "language_info": {
      "codemirror_mode": {
        "name": "ipython",
        "version": 3
      },
      "file_extension": ".py",
      "mimetype": "text/x-python",
      "name": "python",
      "nbconvert_exporter": "python",
      "pygments_lexer": "ipython3",
      "version": "3.9.6"
    },
    "toc": {
      "base_numbering": 1,
      "nav_menu": {},
      "number_sections": true,
      "sideBar": true,
      "skip_h1_title": true,
      "title_cell": "Table of Contents",
      "title_sidebar": "Contents",
      "toc_cell": false,
      "toc_position": {},
      "toc_section_display": true,
      "toc_window_display": false
    }
  },
  "cells": [
    {
      "cell_type": "markdown",
      "metadata": {
        "id": "view-in-github",
        "colab_type": "text"
      },
      "source": [
        "<a href=\"https://colab.research.google.com/github/karind7/Data-Collection-and-Storage-SQL-/blob/main/Data_Collection_and_Storage_(SQL).ipynb\" target=\"_parent\"><img src=\"https://colab.research.google.com/assets/colab-badge.svg\" alt=\"Open In Colab\"/></a>"
      ]
    },
    {
      "cell_type": "code",
      "metadata": {
        "id": "j9SK3s3mNeeV"
      },
      "source": [
        "import csv\n",
        "import pandas as pd\n",
        "import matplotlib.pyplot as plt\n",
        "from scipy import stats as st\n",
        "import numpy as np\n",
        "import math"
      ],
      "execution_count": null,
      "outputs": []
    },
    {
      "cell_type": "code",
      "metadata": {
        "id": "V8bZG3jMNMTf"
      },
      "source": [
        "try:\n",
        "  from google.colab import drive\n",
        "  drive.mount('/content/drive')\n",
        "except:\n",
        "  pass"
      ],
      "execution_count": null,
      "outputs": []
    },
    {
      "cell_type": "markdown",
      "metadata": {
        "id": "bt8FSXaDWRIy"
      },
      "source": [
        "# **importing the files**"
      ]
    },
    {
      "cell_type": "code",
      "metadata": {
        "id": "YQ97IhP4Nf-e"
      },
      "source": [
        "try:\n",
        "  data_01 = pd.read_csv(\"/content/drive/MyDrive/data science/project_sql_result_01.csv\", error_bad_lines=False)\n",
        "except:\n",
        "  data_01 = pd.read_csv(\"/datasets/project_sql_result_01.csv\")"
      ],
      "execution_count": null,
      "outputs": []
    },
    {
      "cell_type": "code",
      "metadata": {
        "id": "FojG6PHTN2XT"
      },
      "source": [
        "try:\n",
        "  data_04 = pd.read_csv(\"/content/drive/MyDrive/data science/project_sql_result_04.csv\", error_bad_lines=False)\n",
        "except:\n",
        "  data_04 = pd.read_csv(\"/datasets/project_sql_result_04.csv\")"
      ],
      "execution_count": null,
      "outputs": []
    },
    {
      "cell_type": "code",
      "metadata": {
        "id": "NsVyean7YYVp"
      },
      "source": [
        "try:\n",
        "  data_07 = pd.read_csv(\"/content/drive/MyDrive/data science/project_sql_result_07.csv\", error_bad_lines=False)\n",
        "except:\n",
        "  data_07 = pd.read_csv(\"/datasets/project_sql_result_07.csv\")"
      ],
      "execution_count": null,
      "outputs": []
    },
    {
      "cell_type": "markdown",
      "metadata": {
        "id": "V6l_1Vi-WOuO"
      },
      "source": [
        "# **studying the data**"
      ]
    },
    {
      "cell_type": "code",
      "metadata": {
        "colab": {
          "base_uri": "https://localhost:8080/",
          "height": 204
        },
        "id": "S-7o8B06PHGc",
        "outputId": "7bba8d33-8d20-4a22-f576-03825e1d4fa0"
      },
      "source": [
        "data_01.head(5)"
      ],
      "execution_count": null,
      "outputs": [
        {
          "data": {
            "text/html": [
              "<div>\n",
              "<style scoped>\n",
              "    .dataframe tbody tr th:only-of-type {\n",
              "        vertical-align: middle;\n",
              "    }\n",
              "\n",
              "    .dataframe tbody tr th {\n",
              "        vertical-align: top;\n",
              "    }\n",
              "\n",
              "    .dataframe thead th {\n",
              "        text-align: right;\n",
              "    }\n",
              "</style>\n",
              "<table border=\"1\" class=\"dataframe\">\n",
              "  <thead>\n",
              "    <tr style=\"text-align: right;\">\n",
              "      <th></th>\n",
              "      <th>company_name</th>\n",
              "      <th>trips_amount</th>\n",
              "    </tr>\n",
              "  </thead>\n",
              "  <tbody>\n",
              "    <tr>\n",
              "      <td>0</td>\n",
              "      <td>Flash Cab</td>\n",
              "      <td>19558</td>\n",
              "    </tr>\n",
              "    <tr>\n",
              "      <td>1</td>\n",
              "      <td>Taxi Affiliation Services</td>\n",
              "      <td>11422</td>\n",
              "    </tr>\n",
              "    <tr>\n",
              "      <td>2</td>\n",
              "      <td>Medallion Leasing</td>\n",
              "      <td>10367</td>\n",
              "    </tr>\n",
              "    <tr>\n",
              "      <td>3</td>\n",
              "      <td>Yellow Cab</td>\n",
              "      <td>9888</td>\n",
              "    </tr>\n",
              "    <tr>\n",
              "      <td>4</td>\n",
              "      <td>Taxi Affiliation Service Yellow</td>\n",
              "      <td>9299</td>\n",
              "    </tr>\n",
              "  </tbody>\n",
              "</table>\n",
              "</div>"
            ],
            "text/plain": [
              "                      company_name  trips_amount\n",
              "0                        Flash Cab         19558\n",
              "1        Taxi Affiliation Services         11422\n",
              "2                Medallion Leasing         10367\n",
              "3                       Yellow Cab          9888\n",
              "4  Taxi Affiliation Service Yellow          9299"
            ]
          },
          "execution_count": 6,
          "metadata": {},
          "output_type": "execute_result"
        }
      ]
    },
    {
      "cell_type": "code",
      "metadata": {
        "colab": {
          "base_uri": "https://localhost:8080/"
        },
        "id": "INj4VHeqOxYU",
        "outputId": "768dd7bc-1e33-454f-93f1-af66db4b1963"
      },
      "source": [
        "data_01.info()"
      ],
      "execution_count": null,
      "outputs": [
        {
          "name": "stdout",
          "output_type": "stream",
          "text": [
            "<class 'pandas.core.frame.DataFrame'>\n",
            "RangeIndex: 64 entries, 0 to 63\n",
            "Data columns (total 2 columns):\n",
            "company_name    64 non-null object\n",
            "trips_amount    64 non-null int64\n",
            "dtypes: int64(1), object(1)\n",
            "memory usage: 1.1+ KB\n"
          ]
        }
      ]
    },
    {
      "cell_type": "code",
      "metadata": {
        "id": "5KV5ahU5uKiS",
        "outputId": "7582d864-11a1-4e46-f9fe-42445c889692"
      },
      "source": [
        "data_01.describe()"
      ],
      "execution_count": null,
      "outputs": [
        {
          "data": {
            "text/html": [
              "<div>\n",
              "<style scoped>\n",
              "    .dataframe tbody tr th:only-of-type {\n",
              "        vertical-align: middle;\n",
              "    }\n",
              "\n",
              "    .dataframe tbody tr th {\n",
              "        vertical-align: top;\n",
              "    }\n",
              "\n",
              "    .dataframe thead th {\n",
              "        text-align: right;\n",
              "    }\n",
              "</style>\n",
              "<table border=\"1\" class=\"dataframe\">\n",
              "  <thead>\n",
              "    <tr style=\"text-align: right;\">\n",
              "      <th></th>\n",
              "      <th>trips_amount</th>\n",
              "    </tr>\n",
              "  </thead>\n",
              "  <tbody>\n",
              "    <tr>\n",
              "      <td>count</td>\n",
              "      <td>64.000000</td>\n",
              "    </tr>\n",
              "    <tr>\n",
              "      <td>mean</td>\n",
              "      <td>2145.484375</td>\n",
              "    </tr>\n",
              "    <tr>\n",
              "      <td>std</td>\n",
              "      <td>3812.310186</td>\n",
              "    </tr>\n",
              "    <tr>\n",
              "      <td>min</td>\n",
              "      <td>2.000000</td>\n",
              "    </tr>\n",
              "    <tr>\n",
              "      <td>25%</td>\n",
              "      <td>20.750000</td>\n",
              "    </tr>\n",
              "    <tr>\n",
              "      <td>50%</td>\n",
              "      <td>178.500000</td>\n",
              "    </tr>\n",
              "    <tr>\n",
              "      <td>75%</td>\n",
              "      <td>2106.500000</td>\n",
              "    </tr>\n",
              "    <tr>\n",
              "      <td>max</td>\n",
              "      <td>19558.000000</td>\n",
              "    </tr>\n",
              "  </tbody>\n",
              "</table>\n",
              "</div>"
            ],
            "text/plain": [
              "       trips_amount\n",
              "count     64.000000\n",
              "mean    2145.484375\n",
              "std     3812.310186\n",
              "min        2.000000\n",
              "25%       20.750000\n",
              "50%      178.500000\n",
              "75%     2106.500000\n",
              "max    19558.000000"
            ]
          },
          "execution_count": 8,
          "metadata": {},
          "output_type": "execute_result"
        }
      ]
    },
    {
      "cell_type": "code",
      "metadata": {
        "colab": {
          "base_uri": "https://localhost:8080/",
          "height": 204
        },
        "id": "P5Xyw-_3PQaR",
        "outputId": "c2f633a1-1803-440b-d36f-8503ea3c043f"
      },
      "source": [
        "data_04.head(5)"
      ],
      "execution_count": null,
      "outputs": [
        {
          "data": {
            "text/html": [
              "<div>\n",
              "<style scoped>\n",
              "    .dataframe tbody tr th:only-of-type {\n",
              "        vertical-align: middle;\n",
              "    }\n",
              "\n",
              "    .dataframe tbody tr th {\n",
              "        vertical-align: top;\n",
              "    }\n",
              "\n",
              "    .dataframe thead th {\n",
              "        text-align: right;\n",
              "    }\n",
              "</style>\n",
              "<table border=\"1\" class=\"dataframe\">\n",
              "  <thead>\n",
              "    <tr style=\"text-align: right;\">\n",
              "      <th></th>\n",
              "      <th>dropoff_location_name</th>\n",
              "      <th>average_trips</th>\n",
              "    </tr>\n",
              "  </thead>\n",
              "  <tbody>\n",
              "    <tr>\n",
              "      <td>0</td>\n",
              "      <td>Loop</td>\n",
              "      <td>10727.466667</td>\n",
              "    </tr>\n",
              "    <tr>\n",
              "      <td>1</td>\n",
              "      <td>River North</td>\n",
              "      <td>9523.666667</td>\n",
              "    </tr>\n",
              "    <tr>\n",
              "      <td>2</td>\n",
              "      <td>Streeterville</td>\n",
              "      <td>6664.666667</td>\n",
              "    </tr>\n",
              "    <tr>\n",
              "      <td>3</td>\n",
              "      <td>West Loop</td>\n",
              "      <td>5163.666667</td>\n",
              "    </tr>\n",
              "    <tr>\n",
              "      <td>4</td>\n",
              "      <td>O'Hare</td>\n",
              "      <td>2546.900000</td>\n",
              "    </tr>\n",
              "  </tbody>\n",
              "</table>\n",
              "</div>"
            ],
            "text/plain": [
              "  dropoff_location_name  average_trips\n",
              "0                  Loop   10727.466667\n",
              "1           River North    9523.666667\n",
              "2         Streeterville    6664.666667\n",
              "3             West Loop    5163.666667\n",
              "4                O'Hare    2546.900000"
            ]
          },
          "execution_count": 9,
          "metadata": {},
          "output_type": "execute_result"
        }
      ]
    },
    {
      "cell_type": "code",
      "metadata": {
        "colab": {
          "base_uri": "https://localhost:8080/"
        },
        "id": "AD7umUheOxqw",
        "outputId": "801bf98e-f820-4069-a628-f1dfa2c74bd0"
      },
      "source": [
        "data_04.info()"
      ],
      "execution_count": null,
      "outputs": [
        {
          "name": "stdout",
          "output_type": "stream",
          "text": [
            "<class 'pandas.core.frame.DataFrame'>\n",
            "RangeIndex: 94 entries, 0 to 93\n",
            "Data columns (total 2 columns):\n",
            "dropoff_location_name    94 non-null object\n",
            "average_trips            94 non-null float64\n",
            "dtypes: float64(1), object(1)\n",
            "memory usage: 1.6+ KB\n"
          ]
        }
      ]
    },
    {
      "cell_type": "code",
      "metadata": {
        "id": "zAOIbLCjuKiT",
        "outputId": "e176d4da-d414-427b-f8f6-ee4433724286"
      },
      "source": [
        "data_04.describe()"
      ],
      "execution_count": null,
      "outputs": [
        {
          "data": {
            "text/html": [
              "<div>\n",
              "<style scoped>\n",
              "    .dataframe tbody tr th:only-of-type {\n",
              "        vertical-align: middle;\n",
              "    }\n",
              "\n",
              "    .dataframe tbody tr th {\n",
              "        vertical-align: top;\n",
              "    }\n",
              "\n",
              "    .dataframe thead th {\n",
              "        text-align: right;\n",
              "    }\n",
              "</style>\n",
              "<table border=\"1\" class=\"dataframe\">\n",
              "  <thead>\n",
              "    <tr style=\"text-align: right;\">\n",
              "      <th></th>\n",
              "      <th>average_trips</th>\n",
              "    </tr>\n",
              "  </thead>\n",
              "  <tbody>\n",
              "    <tr>\n",
              "      <td>count</td>\n",
              "      <td>94.000000</td>\n",
              "    </tr>\n",
              "    <tr>\n",
              "      <td>mean</td>\n",
              "      <td>599.953728</td>\n",
              "    </tr>\n",
              "    <tr>\n",
              "      <td>std</td>\n",
              "      <td>1714.591098</td>\n",
              "    </tr>\n",
              "    <tr>\n",
              "      <td>min</td>\n",
              "      <td>1.800000</td>\n",
              "    </tr>\n",
              "    <tr>\n",
              "      <td>25%</td>\n",
              "      <td>14.266667</td>\n",
              "    </tr>\n",
              "    <tr>\n",
              "      <td>50%</td>\n",
              "      <td>52.016667</td>\n",
              "    </tr>\n",
              "    <tr>\n",
              "      <td>75%</td>\n",
              "      <td>298.858333</td>\n",
              "    </tr>\n",
              "    <tr>\n",
              "      <td>max</td>\n",
              "      <td>10727.466667</td>\n",
              "    </tr>\n",
              "  </tbody>\n",
              "</table>\n",
              "</div>"
            ],
            "text/plain": [
              "       average_trips\n",
              "count      94.000000\n",
              "mean      599.953728\n",
              "std      1714.591098\n",
              "min         1.800000\n",
              "25%        14.266667\n",
              "50%        52.016667\n",
              "75%       298.858333\n",
              "max     10727.466667"
            ]
          },
          "execution_count": 11,
          "metadata": {},
          "output_type": "execute_result"
        }
      ]
    },
    {
      "cell_type": "code",
      "metadata": {
        "colab": {
          "base_uri": "https://localhost:8080/",
          "height": 204
        },
        "id": "yJBWOzn1Ydvf",
        "outputId": "7463239f-1cbf-4c9c-d096-ba2b973cd672"
      },
      "source": [
        "data_07.head(5)"
      ],
      "execution_count": null,
      "outputs": [
        {
          "data": {
            "text/html": [
              "<div>\n",
              "<style scoped>\n",
              "    .dataframe tbody tr th:only-of-type {\n",
              "        vertical-align: middle;\n",
              "    }\n",
              "\n",
              "    .dataframe tbody tr th {\n",
              "        vertical-align: top;\n",
              "    }\n",
              "\n",
              "    .dataframe thead th {\n",
              "        text-align: right;\n",
              "    }\n",
              "</style>\n",
              "<table border=\"1\" class=\"dataframe\">\n",
              "  <thead>\n",
              "    <tr style=\"text-align: right;\">\n",
              "      <th></th>\n",
              "      <th>start_ts</th>\n",
              "      <th>weather_conditions</th>\n",
              "      <th>duration_seconds</th>\n",
              "    </tr>\n",
              "  </thead>\n",
              "  <tbody>\n",
              "    <tr>\n",
              "      <td>0</td>\n",
              "      <td>2017-11-25 16:00:00</td>\n",
              "      <td>Good</td>\n",
              "      <td>2410.0</td>\n",
              "    </tr>\n",
              "    <tr>\n",
              "      <td>1</td>\n",
              "      <td>2017-11-25 14:00:00</td>\n",
              "      <td>Good</td>\n",
              "      <td>1920.0</td>\n",
              "    </tr>\n",
              "    <tr>\n",
              "      <td>2</td>\n",
              "      <td>2017-11-25 12:00:00</td>\n",
              "      <td>Good</td>\n",
              "      <td>1543.0</td>\n",
              "    </tr>\n",
              "    <tr>\n",
              "      <td>3</td>\n",
              "      <td>2017-11-04 10:00:00</td>\n",
              "      <td>Good</td>\n",
              "      <td>2512.0</td>\n",
              "    </tr>\n",
              "    <tr>\n",
              "      <td>4</td>\n",
              "      <td>2017-11-11 07:00:00</td>\n",
              "      <td>Good</td>\n",
              "      <td>1440.0</td>\n",
              "    </tr>\n",
              "  </tbody>\n",
              "</table>\n",
              "</div>"
            ],
            "text/plain": [
              "              start_ts weather_conditions  duration_seconds\n",
              "0  2017-11-25 16:00:00               Good            2410.0\n",
              "1  2017-11-25 14:00:00               Good            1920.0\n",
              "2  2017-11-25 12:00:00               Good            1543.0\n",
              "3  2017-11-04 10:00:00               Good            2512.0\n",
              "4  2017-11-11 07:00:00               Good            1440.0"
            ]
          },
          "execution_count": 12,
          "metadata": {},
          "output_type": "execute_result"
        }
      ]
    },
    {
      "cell_type": "code",
      "metadata": {
        "colab": {
          "base_uri": "https://localhost:8080/"
        },
        "id": "sYD3P_8cYkFP",
        "scrolled": true,
        "outputId": "4af9b331-0cad-4bf5-8b76-86fd1e52fa46"
      },
      "source": [
        "data_07.info()"
      ],
      "execution_count": null,
      "outputs": [
        {
          "name": "stdout",
          "output_type": "stream",
          "text": [
            "<class 'pandas.core.frame.DataFrame'>\n",
            "RangeIndex: 1068 entries, 0 to 1067\n",
            "Data columns (total 3 columns):\n",
            "start_ts              1068 non-null object\n",
            "weather_conditions    1068 non-null object\n",
            "duration_seconds      1068 non-null float64\n",
            "dtypes: float64(1), object(2)\n",
            "memory usage: 25.2+ KB\n"
          ]
        }
      ]
    },
    {
      "cell_type": "code",
      "metadata": {
        "id": "S5cTDO8KuKiU",
        "outputId": "5f82c0c1-7749-447b-b333-cb003b4c5f3e"
      },
      "source": [
        "data_07.describe()"
      ],
      "execution_count": null,
      "outputs": [
        {
          "data": {
            "text/html": [
              "<div>\n",
              "<style scoped>\n",
              "    .dataframe tbody tr th:only-of-type {\n",
              "        vertical-align: middle;\n",
              "    }\n",
              "\n",
              "    .dataframe tbody tr th {\n",
              "        vertical-align: top;\n",
              "    }\n",
              "\n",
              "    .dataframe thead th {\n",
              "        text-align: right;\n",
              "    }\n",
              "</style>\n",
              "<table border=\"1\" class=\"dataframe\">\n",
              "  <thead>\n",
              "    <tr style=\"text-align: right;\">\n",
              "      <th></th>\n",
              "      <th>duration_seconds</th>\n",
              "    </tr>\n",
              "  </thead>\n",
              "  <tbody>\n",
              "    <tr>\n",
              "      <td>count</td>\n",
              "      <td>1068.000000</td>\n",
              "    </tr>\n",
              "    <tr>\n",
              "      <td>mean</td>\n",
              "      <td>2071.731273</td>\n",
              "    </tr>\n",
              "    <tr>\n",
              "      <td>std</td>\n",
              "      <td>769.461125</td>\n",
              "    </tr>\n",
              "    <tr>\n",
              "      <td>min</td>\n",
              "      <td>0.000000</td>\n",
              "    </tr>\n",
              "    <tr>\n",
              "      <td>25%</td>\n",
              "      <td>1438.250000</td>\n",
              "    </tr>\n",
              "    <tr>\n",
              "      <td>50%</td>\n",
              "      <td>1980.000000</td>\n",
              "    </tr>\n",
              "    <tr>\n",
              "      <td>75%</td>\n",
              "      <td>2580.000000</td>\n",
              "    </tr>\n",
              "    <tr>\n",
              "      <td>max</td>\n",
              "      <td>7440.000000</td>\n",
              "    </tr>\n",
              "  </tbody>\n",
              "</table>\n",
              "</div>"
            ],
            "text/plain": [
              "       duration_seconds\n",
              "count       1068.000000\n",
              "mean        2071.731273\n",
              "std          769.461125\n",
              "min            0.000000\n",
              "25%         1438.250000\n",
              "50%         1980.000000\n",
              "75%         2580.000000\n",
              "max         7440.000000"
            ]
          },
          "execution_count": 14,
          "metadata": {},
          "output_type": "execute_result"
        }
      ]
    },
    {
      "cell_type": "markdown",
      "metadata": {
        "id": "GqbrzdN3uKiU"
      },
      "source": [
        "min trip duration_seconds is zero, maybe it's trips that were cancelled. in any case we will remove them"
      ]
    },
    {
      "cell_type": "markdown",
      "metadata": {
        "id": "OSf9Z8ofuKiU"
      },
      "source": [
        "we have not found any missing values in the info of the data or word data in the description"
      ]
    },
    {
      "cell_type": "markdown",
      "metadata": {
        "id": "fLS86lVEWlJK"
      },
      "source": [
        "**identify the top 10 neighborhoods in terms of drop-offs**"
      ]
    },
    {
      "cell_type": "code",
      "metadata": {
        "colab": {
          "base_uri": "https://localhost:8080/",
          "height": 359
        },
        "id": "8QYN73xQWqkV",
        "outputId": "3432272b-6f19-404a-ebf1-81a40463cfed"
      },
      "source": [
        "data_04.sort_values(by = \"average_trips\", ascending=False)\n",
        "data_04[:10]"
      ],
      "execution_count": null,
      "outputs": [
        {
          "data": {
            "text/html": [
              "<div>\n",
              "<style scoped>\n",
              "    .dataframe tbody tr th:only-of-type {\n",
              "        vertical-align: middle;\n",
              "    }\n",
              "\n",
              "    .dataframe tbody tr th {\n",
              "        vertical-align: top;\n",
              "    }\n",
              "\n",
              "    .dataframe thead th {\n",
              "        text-align: right;\n",
              "    }\n",
              "</style>\n",
              "<table border=\"1\" class=\"dataframe\">\n",
              "  <thead>\n",
              "    <tr style=\"text-align: right;\">\n",
              "      <th></th>\n",
              "      <th>dropoff_location_name</th>\n",
              "      <th>average_trips</th>\n",
              "    </tr>\n",
              "  </thead>\n",
              "  <tbody>\n",
              "    <tr>\n",
              "      <td>0</td>\n",
              "      <td>Loop</td>\n",
              "      <td>10727.466667</td>\n",
              "    </tr>\n",
              "    <tr>\n",
              "      <td>1</td>\n",
              "      <td>River North</td>\n",
              "      <td>9523.666667</td>\n",
              "    </tr>\n",
              "    <tr>\n",
              "      <td>2</td>\n",
              "      <td>Streeterville</td>\n",
              "      <td>6664.666667</td>\n",
              "    </tr>\n",
              "    <tr>\n",
              "      <td>3</td>\n",
              "      <td>West Loop</td>\n",
              "      <td>5163.666667</td>\n",
              "    </tr>\n",
              "    <tr>\n",
              "      <td>4</td>\n",
              "      <td>O'Hare</td>\n",
              "      <td>2546.900000</td>\n",
              "    </tr>\n",
              "    <tr>\n",
              "      <td>5</td>\n",
              "      <td>Lake View</td>\n",
              "      <td>2420.966667</td>\n",
              "    </tr>\n",
              "    <tr>\n",
              "      <td>6</td>\n",
              "      <td>Grant Park</td>\n",
              "      <td>2068.533333</td>\n",
              "    </tr>\n",
              "    <tr>\n",
              "      <td>7</td>\n",
              "      <td>Museum Campus</td>\n",
              "      <td>1510.000000</td>\n",
              "    </tr>\n",
              "    <tr>\n",
              "      <td>8</td>\n",
              "      <td>Gold Coast</td>\n",
              "      <td>1364.233333</td>\n",
              "    </tr>\n",
              "    <tr>\n",
              "      <td>9</td>\n",
              "      <td>Sheffield &amp; DePaul</td>\n",
              "      <td>1259.766667</td>\n",
              "    </tr>\n",
              "  </tbody>\n",
              "</table>\n",
              "</div>"
            ],
            "text/plain": [
              "  dropoff_location_name  average_trips\n",
              "0                  Loop   10727.466667\n",
              "1           River North    9523.666667\n",
              "2         Streeterville    6664.666667\n",
              "3             West Loop    5163.666667\n",
              "4                O'Hare    2546.900000\n",
              "5             Lake View    2420.966667\n",
              "6            Grant Park    2068.533333\n",
              "7         Museum Campus    1510.000000\n",
              "8            Gold Coast    1364.233333\n",
              "9    Sheffield & DePaul    1259.766667"
            ]
          },
          "execution_count": 15,
          "metadata": {},
          "output_type": "execute_result"
        }
      ]
    },
    {
      "cell_type": "markdown",
      "metadata": {
        "id": "V1qrnpflYvB4"
      },
      "source": [
        "# **making sure the data types are correct**"
      ]
    },
    {
      "cell_type": "code",
      "metadata": {
        "colab": {
          "base_uri": "https://localhost:8080/"
        },
        "id": "U0X2KBbkYymU",
        "outputId": "ba2fbf69-f152-4a43-e7d5-39223295fa74"
      },
      "source": [
        "#change the start_ts column to datetime and the duration_seconds to integers\n",
        "data_07[\"start_ts\"] = pd.to_datetime(data_07['start_ts'], format='%Y%m%d %H:%M:%S.%f')\n",
        "data_07[\"duration_seconds\"] = data_07[\"duration_seconds\"].astype(int)\n",
        "data_07.drop(data_07[data_07[\"duration_seconds\"] <= 0].index, inplace=True)\n",
        "data_07.info()"
      ],
      "execution_count": null,
      "outputs": [
        {
          "name": "stdout",
          "output_type": "stream",
          "text": [
            "<class 'pandas.core.frame.DataFrame'>\n",
            "Int64Index: 1062 entries, 0 to 1067\n",
            "Data columns (total 3 columns):\n",
            "start_ts              1062 non-null datetime64[ns]\n",
            "weather_conditions    1062 non-null object\n",
            "duration_seconds      1062 non-null int64\n",
            "dtypes: datetime64[ns](1), int64(1), object(1)\n",
            "memory usage: 33.2+ KB\n"
          ]
        }
      ]
    },
    {
      "cell_type": "code",
      "metadata": {
        "id": "LZjovi7tuKiW",
        "outputId": "6a66a879-a541-42f0-c131-d9f779b8dc9f"
      },
      "source": [
        "data_07.describe()"
      ],
      "execution_count": null,
      "outputs": [
        {
          "data": {
            "text/html": [
              "<div>\n",
              "<style scoped>\n",
              "    .dataframe tbody tr th:only-of-type {\n",
              "        vertical-align: middle;\n",
              "    }\n",
              "\n",
              "    .dataframe tbody tr th {\n",
              "        vertical-align: top;\n",
              "    }\n",
              "\n",
              "    .dataframe thead th {\n",
              "        text-align: right;\n",
              "    }\n",
              "</style>\n",
              "<table border=\"1\" class=\"dataframe\">\n",
              "  <thead>\n",
              "    <tr style=\"text-align: right;\">\n",
              "      <th></th>\n",
              "      <th>duration_seconds</th>\n",
              "    </tr>\n",
              "  </thead>\n",
              "  <tbody>\n",
              "    <tr>\n",
              "      <td>count</td>\n",
              "      <td>1062.000000</td>\n",
              "    </tr>\n",
              "    <tr>\n",
              "      <td>mean</td>\n",
              "      <td>2083.435970</td>\n",
              "    </tr>\n",
              "    <tr>\n",
              "      <td>std</td>\n",
              "      <td>755.651796</td>\n",
              "    </tr>\n",
              "    <tr>\n",
              "      <td>min</td>\n",
              "      <td>60.000000</td>\n",
              "    </tr>\n",
              "    <tr>\n",
              "      <td>25%</td>\n",
              "      <td>1440.000000</td>\n",
              "    </tr>\n",
              "    <tr>\n",
              "      <td>50%</td>\n",
              "      <td>1980.000000</td>\n",
              "    </tr>\n",
              "    <tr>\n",
              "      <td>75%</td>\n",
              "      <td>2580.000000</td>\n",
              "    </tr>\n",
              "    <tr>\n",
              "      <td>max</td>\n",
              "      <td>7440.000000</td>\n",
              "    </tr>\n",
              "  </tbody>\n",
              "</table>\n",
              "</div>"
            ],
            "text/plain": [
              "       duration_seconds\n",
              "count       1062.000000\n",
              "mean        2083.435970\n",
              "std          755.651796\n",
              "min           60.000000\n",
              "25%         1440.000000\n",
              "50%         1980.000000\n",
              "75%         2580.000000\n",
              "max         7440.000000"
            ]
          },
          "execution_count": 17,
          "metadata": {},
          "output_type": "execute_result"
        }
      ]
    },
    {
      "cell_type": "code",
      "metadata": {
        "id": "RnG6oJCMuKiW",
        "outputId": "e6f26eb1-94ad-4365-cca5-cded46a1963c"
      },
      "source": [
        "data_01[data_01.duplicated()]"
      ],
      "execution_count": null,
      "outputs": [
        {
          "data": {
            "text/html": [
              "<div>\n",
              "<style scoped>\n",
              "    .dataframe tbody tr th:only-of-type {\n",
              "        vertical-align: middle;\n",
              "    }\n",
              "\n",
              "    .dataframe tbody tr th {\n",
              "        vertical-align: top;\n",
              "    }\n",
              "\n",
              "    .dataframe thead th {\n",
              "        text-align: right;\n",
              "    }\n",
              "</style>\n",
              "<table border=\"1\" class=\"dataframe\">\n",
              "  <thead>\n",
              "    <tr style=\"text-align: right;\">\n",
              "      <th></th>\n",
              "      <th>company_name</th>\n",
              "      <th>trips_amount</th>\n",
              "    </tr>\n",
              "  </thead>\n",
              "  <tbody>\n",
              "  </tbody>\n",
              "</table>\n",
              "</div>"
            ],
            "text/plain": [
              "Empty DataFrame\n",
              "Columns: [company_name, trips_amount]\n",
              "Index: []"
            ]
          },
          "execution_count": 18,
          "metadata": {},
          "output_type": "execute_result"
        }
      ]
    },
    {
      "cell_type": "code",
      "metadata": {
        "id": "lpkvZSCOuKiX",
        "outputId": "4eb8f0ee-c958-49ad-d9e5-ffce07239080"
      },
      "source": [
        "data_04[data_04.duplicated()]"
      ],
      "execution_count": null,
      "outputs": [
        {
          "data": {
            "text/html": [
              "<div>\n",
              "<style scoped>\n",
              "    .dataframe tbody tr th:only-of-type {\n",
              "        vertical-align: middle;\n",
              "    }\n",
              "\n",
              "    .dataframe tbody tr th {\n",
              "        vertical-align: top;\n",
              "    }\n",
              "\n",
              "    .dataframe thead th {\n",
              "        text-align: right;\n",
              "    }\n",
              "</style>\n",
              "<table border=\"1\" class=\"dataframe\">\n",
              "  <thead>\n",
              "    <tr style=\"text-align: right;\">\n",
              "      <th></th>\n",
              "      <th>dropoff_location_name</th>\n",
              "      <th>average_trips</th>\n",
              "    </tr>\n",
              "  </thead>\n",
              "  <tbody>\n",
              "  </tbody>\n",
              "</table>\n",
              "</div>"
            ],
            "text/plain": [
              "Empty DataFrame\n",
              "Columns: [dropoff_location_name, average_trips]\n",
              "Index: []"
            ]
          },
          "execution_count": 19,
          "metadata": {},
          "output_type": "execute_result"
        }
      ]
    },
    {
      "cell_type": "code",
      "metadata": {
        "id": "53xaRHXfuKiX",
        "outputId": "815bb97b-94c2-4490-ce9a-dfc20c4cb569"
      },
      "source": [
        "data_07[data_07.duplicated()]"
      ],
      "execution_count": null,
      "outputs": [
        {
          "data": {
            "text/html": [
              "<div>\n",
              "<style scoped>\n",
              "    .dataframe tbody tr th:only-of-type {\n",
              "        vertical-align: middle;\n",
              "    }\n",
              "\n",
              "    .dataframe tbody tr th {\n",
              "        vertical-align: top;\n",
              "    }\n",
              "\n",
              "    .dataframe thead th {\n",
              "        text-align: right;\n",
              "    }\n",
              "</style>\n",
              "<table border=\"1\" class=\"dataframe\">\n",
              "  <thead>\n",
              "    <tr style=\"text-align: right;\">\n",
              "      <th></th>\n",
              "      <th>start_ts</th>\n",
              "      <th>weather_conditions</th>\n",
              "      <th>duration_seconds</th>\n",
              "    </tr>\n",
              "  </thead>\n",
              "  <tbody>\n",
              "    <tr>\n",
              "      <td>62</td>\n",
              "      <td>2017-11-11 06:00:00</td>\n",
              "      <td>Good</td>\n",
              "      <td>1260</td>\n",
              "    </tr>\n",
              "    <tr>\n",
              "      <td>74</td>\n",
              "      <td>2017-11-11 08:00:00</td>\n",
              "      <td>Good</td>\n",
              "      <td>1380</td>\n",
              "    </tr>\n",
              "    <tr>\n",
              "      <td>76</td>\n",
              "      <td>2017-11-04 09:00:00</td>\n",
              "      <td>Good</td>\n",
              "      <td>1380</td>\n",
              "    </tr>\n",
              "    <tr>\n",
              "      <td>117</td>\n",
              "      <td>2017-11-11 07:00:00</td>\n",
              "      <td>Good</td>\n",
              "      <td>1380</td>\n",
              "    </tr>\n",
              "    <tr>\n",
              "      <td>119</td>\n",
              "      <td>2017-11-04 14:00:00</td>\n",
              "      <td>Good</td>\n",
              "      <td>3300</td>\n",
              "    </tr>\n",
              "    <tr>\n",
              "      <td>...</td>\n",
              "      <td>...</td>\n",
              "      <td>...</td>\n",
              "      <td>...</td>\n",
              "    </tr>\n",
              "    <tr>\n",
              "      <td>1054</td>\n",
              "      <td>2017-11-11 07:00:00</td>\n",
              "      <td>Good</td>\n",
              "      <td>1380</td>\n",
              "    </tr>\n",
              "    <tr>\n",
              "      <td>1058</td>\n",
              "      <td>2017-11-25 12:00:00</td>\n",
              "      <td>Good</td>\n",
              "      <td>1440</td>\n",
              "    </tr>\n",
              "    <tr>\n",
              "      <td>1062</td>\n",
              "      <td>2017-11-11 06:00:00</td>\n",
              "      <td>Good</td>\n",
              "      <td>1500</td>\n",
              "    </tr>\n",
              "    <tr>\n",
              "      <td>1065</td>\n",
              "      <td>2017-11-11 13:00:00</td>\n",
              "      <td>Good</td>\n",
              "      <td>2100</td>\n",
              "    </tr>\n",
              "    <tr>\n",
              "      <td>1066</td>\n",
              "      <td>2017-11-11 08:00:00</td>\n",
              "      <td>Good</td>\n",
              "      <td>1380</td>\n",
              "    </tr>\n",
              "  </tbody>\n",
              "</table>\n",
              "<p>197 rows × 3 columns</p>\n",
              "</div>"
            ],
            "text/plain": [
              "                start_ts weather_conditions  duration_seconds\n",
              "62   2017-11-11 06:00:00               Good              1260\n",
              "74   2017-11-11 08:00:00               Good              1380\n",
              "76   2017-11-04 09:00:00               Good              1380\n",
              "117  2017-11-11 07:00:00               Good              1380\n",
              "119  2017-11-04 14:00:00               Good              3300\n",
              "...                  ...                ...               ...\n",
              "1054 2017-11-11 07:00:00               Good              1380\n",
              "1058 2017-11-25 12:00:00               Good              1440\n",
              "1062 2017-11-11 06:00:00               Good              1500\n",
              "1065 2017-11-11 13:00:00               Good              2100\n",
              "1066 2017-11-11 08:00:00               Good              1380\n",
              "\n",
              "[197 rows x 3 columns]"
            ]
          },
          "execution_count": 20,
          "metadata": {},
          "output_type": "execute_result"
        }
      ]
    },
    {
      "cell_type": "code",
      "metadata": {
        "id": "EZKCsoryuKiX",
        "outputId": "62ab07cf-6127-42f6-9c4d-cde216d54b06"
      },
      "source": [
        "data_07[data_07.duplicated()]"
      ],
      "execution_count": null,
      "outputs": [
        {
          "data": {
            "text/html": [
              "<div>\n",
              "<style scoped>\n",
              "    .dataframe tbody tr th:only-of-type {\n",
              "        vertical-align: middle;\n",
              "    }\n",
              "\n",
              "    .dataframe tbody tr th {\n",
              "        vertical-align: top;\n",
              "    }\n",
              "\n",
              "    .dataframe thead th {\n",
              "        text-align: right;\n",
              "    }\n",
              "</style>\n",
              "<table border=\"1\" class=\"dataframe\">\n",
              "  <thead>\n",
              "    <tr style=\"text-align: right;\">\n",
              "      <th></th>\n",
              "      <th>start_ts</th>\n",
              "      <th>weather_conditions</th>\n",
              "      <th>duration_seconds</th>\n",
              "    </tr>\n",
              "  </thead>\n",
              "  <tbody>\n",
              "    <tr>\n",
              "      <td>62</td>\n",
              "      <td>2017-11-11 06:00:00</td>\n",
              "      <td>Good</td>\n",
              "      <td>1260</td>\n",
              "    </tr>\n",
              "    <tr>\n",
              "      <td>74</td>\n",
              "      <td>2017-11-11 08:00:00</td>\n",
              "      <td>Good</td>\n",
              "      <td>1380</td>\n",
              "    </tr>\n",
              "    <tr>\n",
              "      <td>76</td>\n",
              "      <td>2017-11-04 09:00:00</td>\n",
              "      <td>Good</td>\n",
              "      <td>1380</td>\n",
              "    </tr>\n",
              "    <tr>\n",
              "      <td>117</td>\n",
              "      <td>2017-11-11 07:00:00</td>\n",
              "      <td>Good</td>\n",
              "      <td>1380</td>\n",
              "    </tr>\n",
              "    <tr>\n",
              "      <td>119</td>\n",
              "      <td>2017-11-04 14:00:00</td>\n",
              "      <td>Good</td>\n",
              "      <td>3300</td>\n",
              "    </tr>\n",
              "    <tr>\n",
              "      <td>...</td>\n",
              "      <td>...</td>\n",
              "      <td>...</td>\n",
              "      <td>...</td>\n",
              "    </tr>\n",
              "    <tr>\n",
              "      <td>1054</td>\n",
              "      <td>2017-11-11 07:00:00</td>\n",
              "      <td>Good</td>\n",
              "      <td>1380</td>\n",
              "    </tr>\n",
              "    <tr>\n",
              "      <td>1058</td>\n",
              "      <td>2017-11-25 12:00:00</td>\n",
              "      <td>Good</td>\n",
              "      <td>1440</td>\n",
              "    </tr>\n",
              "    <tr>\n",
              "      <td>1062</td>\n",
              "      <td>2017-11-11 06:00:00</td>\n",
              "      <td>Good</td>\n",
              "      <td>1500</td>\n",
              "    </tr>\n",
              "    <tr>\n",
              "      <td>1065</td>\n",
              "      <td>2017-11-11 13:00:00</td>\n",
              "      <td>Good</td>\n",
              "      <td>2100</td>\n",
              "    </tr>\n",
              "    <tr>\n",
              "      <td>1066</td>\n",
              "      <td>2017-11-11 08:00:00</td>\n",
              "      <td>Good</td>\n",
              "      <td>1380</td>\n",
              "    </tr>\n",
              "  </tbody>\n",
              "</table>\n",
              "<p>197 rows × 3 columns</p>\n",
              "</div>"
            ],
            "text/plain": [
              "                start_ts weather_conditions  duration_seconds\n",
              "62   2017-11-11 06:00:00               Good              1260\n",
              "74   2017-11-11 08:00:00               Good              1380\n",
              "76   2017-11-04 09:00:00               Good              1380\n",
              "117  2017-11-11 07:00:00               Good              1380\n",
              "119  2017-11-04 14:00:00               Good              3300\n",
              "...                  ...                ...               ...\n",
              "1054 2017-11-11 07:00:00               Good              1380\n",
              "1058 2017-11-25 12:00:00               Good              1440\n",
              "1062 2017-11-11 06:00:00               Good              1500\n",
              "1065 2017-11-11 13:00:00               Good              2100\n",
              "1066 2017-11-11 08:00:00               Good              1380\n",
              "\n",
              "[197 rows x 3 columns]"
            ]
          },
          "execution_count": 21,
          "metadata": {},
          "output_type": "execute_result"
        }
      ]
    },
    {
      "cell_type": "markdown",
      "metadata": {
        "id": "h1b0mvR4uKiX"
      },
      "source": [
        "we have seen there are data dypes we needed to chang to datetime and int, and we have removed the duplicated data and the corrupted data"
      ]
    },
    {
      "cell_type": "markdown",
      "metadata": {
        "id": "ui57lL_-YAJv"
      },
      "source": [
        "# **making graphs and drawing conclusions**"
      ]
    },
    {
      "cell_type": "code",
      "metadata": {
        "id": "ctxBWnjouKiY",
        "outputId": "6d5d3263-bf02-4650-b659-59a67bb89ddf"
      },
      "source": [
        "top_companies = data_01[\"company_name\"][:10].tolist()\n",
        "data_01.loc[~data_01[\"company_name\"].isin(top_companies), \"company_name\"] = \"Other\"\n",
        "data_01 = data_01.groupby(\"company_name\").sum().reset_index()\n",
        "\n",
        "amout = data_01[\"trips_amount\"]\n",
        "name = data_01[\"company_name\"]\n",
        "\n",
        "fig1, ax1 = plt.subplots(figsize=(8, 8))\n",
        "\n",
        "ax1.pie(amout, labels=name, autopct='%1.1f%%',\n",
        "        startangle=90)\n",
        "ax1.axis('equal')  # Equal aspect ratio ensures that pie is drawn as a circle.\n",
        "\n",
        "plt.show()"
      ],
      "execution_count": null,
      "outputs": [
        {
          "data": {
            "image/png": "[encoded data removed]",
            "text/plain": [
              "<Figure size 576x576 with 1 Axes>"
            ]
          },
          "metadata": {},
          "output_type": "display_data"
        }
      ]
    },
    {
      "cell_type": "markdown",
      "metadata": {
        "id": "hr3KoRVaplIz"
      },
      "source": [
        "The companies that had the most trips made are Flash Cab, Taxi Affiliation Services, Medallion Leasing, Yellow Cab, Taxi Affiliation Service Yellow, Chicago Carriage Cab Corp, City Service, Sun Taxi and Star North Management LLC by far, they could be the oldest companies with repotashen, or cheaper or maybe better app or ads"
      ]
    },
    {
      "cell_type": "code",
      "metadata": {
        "id": "huV1Zx-bpORM",
        "outputId": "4cf50617-d18e-4a32-bdcd-ff415481379b"
      },
      "source": [
        "data_04.sort_values(by = \"average_trips\", ascending=False)"
      ],
      "execution_count": null,
      "outputs": [
        {
          "data": {
            "text/html": [
              "<div>\n",
              "<style scoped>\n",
              "    .dataframe tbody tr th:only-of-type {\n",
              "        vertical-align: middle;\n",
              "    }\n",
              "\n",
              "    .dataframe tbody tr th {\n",
              "        vertical-align: top;\n",
              "    }\n",
              "\n",
              "    .dataframe thead th {\n",
              "        text-align: right;\n",
              "    }\n",
              "</style>\n",
              "<table border=\"1\" class=\"dataframe\">\n",
              "  <thead>\n",
              "    <tr style=\"text-align: right;\">\n",
              "      <th></th>\n",
              "      <th>dropoff_location_name</th>\n",
              "      <th>average_trips</th>\n",
              "    </tr>\n",
              "  </thead>\n",
              "  <tbody>\n",
              "    <tr>\n",
              "      <td>0</td>\n",
              "      <td>Loop</td>\n",
              "      <td>10727.466667</td>\n",
              "    </tr>\n",
              "    <tr>\n",
              "      <td>1</td>\n",
              "      <td>River North</td>\n",
              "      <td>9523.666667</td>\n",
              "    </tr>\n",
              "    <tr>\n",
              "      <td>2</td>\n",
              "      <td>Streeterville</td>\n",
              "      <td>6664.666667</td>\n",
              "    </tr>\n",
              "    <tr>\n",
              "      <td>3</td>\n",
              "      <td>West Loop</td>\n",
              "      <td>5163.666667</td>\n",
              "    </tr>\n",
              "    <tr>\n",
              "      <td>4</td>\n",
              "      <td>O'Hare</td>\n",
              "      <td>2546.900000</td>\n",
              "    </tr>\n",
              "    <tr>\n",
              "      <td>...</td>\n",
              "      <td>...</td>\n",
              "      <td>...</td>\n",
              "    </tr>\n",
              "    <tr>\n",
              "      <td>89</td>\n",
              "      <td>Mount Greenwood</td>\n",
              "      <td>3.137931</td>\n",
              "    </tr>\n",
              "    <tr>\n",
              "      <td>90</td>\n",
              "      <td>Hegewisch</td>\n",
              "      <td>3.117647</td>\n",
              "    </tr>\n",
              "    <tr>\n",
              "      <td>91</td>\n",
              "      <td>Burnside</td>\n",
              "      <td>2.333333</td>\n",
              "    </tr>\n",
              "    <tr>\n",
              "      <td>92</td>\n",
              "      <td>East Side</td>\n",
              "      <td>1.961538</td>\n",
              "    </tr>\n",
              "    <tr>\n",
              "      <td>93</td>\n",
              "      <td>Riverdale</td>\n",
              "      <td>1.800000</td>\n",
              "    </tr>\n",
              "  </tbody>\n",
              "</table>\n",
              "<p>94 rows × 2 columns</p>\n",
              "</div>"
            ],
            "text/plain": [
              "   dropoff_location_name  average_trips\n",
              "0                   Loop   10727.466667\n",
              "1            River North    9523.666667\n",
              "2          Streeterville    6664.666667\n",
              "3              West Loop    5163.666667\n",
              "4                 O'Hare    2546.900000\n",
              "..                   ...            ...\n",
              "89       Mount Greenwood       3.137931\n",
              "90             Hegewisch       3.117647\n",
              "91              Burnside       2.333333\n",
              "92             East Side       1.961538\n",
              "93             Riverdale       1.800000\n",
              "\n",
              "[94 rows x 2 columns]"
            ]
          },
          "execution_count": 23,
          "metadata": {},
          "output_type": "execute_result"
        }
      ]
    },
    {
      "cell_type": "code",
      "metadata": {
        "colab": {
          "base_uri": "https://localhost:8080/",
          "height": 324
        },
        "id": "_8Riqag5RaSF",
        "outputId": "f512cabd-6307-4011-c55b-ec08a7c48f57"
      },
      "source": [
        "plt.rcParams[\"figure.figsize\"] = (5,3)\n",
        "data_04[:10].plot(x = \"dropoff_location_name\", y = \"average_trips\", kind = \"bar\")\n",
        "plt.title(\"average_trips by dropoff location\")\n",
        "plt.xlabel('dropoff location')\n",
        "plt.ylabel('average_trips')\n",
        "plt.show()"
      ],
      "execution_count": null,
      "outputs": [
        {
          "data": {
            "image/png": "[encoded data removed]",
            "text/plain": [
              "<Figure size 360x216 with 1 Axes>"
            ]
          },
          "metadata": {
            "needs_background": "light"
          },
          "output_type": "display_data"
        }
      ]
    },
    {
      "cell_type": "code",
      "metadata": {
        "id": "YG8UgJwUuKiZ",
        "outputId": "70164c6b-eff4-4d4a-8f25-9afbb68454c2"
      },
      "source": [
        "amout = data_04[\"average_trips\"][:10]\n",
        "name = data_04[\"dropoff_location_name\"][:10]\n",
        "\n",
        "fig1, ax1 = plt.subplots(figsize=(8, 8))\n",
        "\n",
        "ax1.pie(amout, labels=name, autopct='%1.1f%%',\n",
        "        startangle=90)\n",
        "ax1.axis('equal')  # Equal aspect ratio ensures that pie is drawn as a circle.\n",
        "\n",
        "plt.show()"
      ],
      "execution_count": null,
      "outputs": [
        {
          "data": {
            "image/png": "[encoded data removed]",
            "text/plain": [
              "<Figure size 576x576 with 1 Axes>"
            ]
          },
          "metadata": {},
          "output_type": "display_data"
        }
      ]
    },
    {
      "cell_type": "markdown",
      "metadata": {
        "id": "dWdzMhKQhpS8"
      },
      "source": [
        "we can see that of the 10 neighborhoods in terms of drop-offs the most popular area Loop, river North, Streeterville, West Loop by far, they could be more popular because there is more population density there or its the place were all the resturants,bars and theaters."
      ]
    },
    {
      "cell_type": "markdown",
      "metadata": {
        "id": "cfBc5OFlYRGP"
      },
      "source": [
        "# **Testing hypotheses**"
      ]
    },
    {
      "cell_type": "code",
      "metadata": {
        "colab": {
          "base_uri": "https://localhost:8080/",
          "height": 419
        },
        "id": "egu9kHVSdbi_",
        "outputId": "99686be3-2025-476e-81cc-1b5990cd6e58"
      },
      "source": [
        "filter_data = data_07.query('weather_conditions ==  \"Bad\" and start_ts.dt.weekday == 5')\n",
        "filter_data"
      ],
      "execution_count": null,
      "outputs": [
        {
          "data": {
            "text/html": [
              "<div>\n",
              "<style scoped>\n",
              "    .dataframe tbody tr th:only-of-type {\n",
              "        vertical-align: middle;\n",
              "    }\n",
              "\n",
              "    .dataframe tbody tr th {\n",
              "        vertical-align: top;\n",
              "    }\n",
              "\n",
              "    .dataframe thead th {\n",
              "        text-align: right;\n",
              "    }\n",
              "</style>\n",
              "<table border=\"1\" class=\"dataframe\">\n",
              "  <thead>\n",
              "    <tr style=\"text-align: right;\">\n",
              "      <th></th>\n",
              "      <th>start_ts</th>\n",
              "      <th>weather_conditions</th>\n",
              "      <th>duration_seconds</th>\n",
              "    </tr>\n",
              "  </thead>\n",
              "  <tbody>\n",
              "    <tr>\n",
              "      <td>6</td>\n",
              "      <td>2017-11-04 16:00:00</td>\n",
              "      <td>Bad</td>\n",
              "      <td>2969</td>\n",
              "    </tr>\n",
              "    <tr>\n",
              "      <td>30</td>\n",
              "      <td>2017-11-18 12:00:00</td>\n",
              "      <td>Bad</td>\n",
              "      <td>1980</td>\n",
              "    </tr>\n",
              "    <tr>\n",
              "      <td>34</td>\n",
              "      <td>2017-11-04 17:00:00</td>\n",
              "      <td>Bad</td>\n",
              "      <td>2460</td>\n",
              "    </tr>\n",
              "    <tr>\n",
              "      <td>51</td>\n",
              "      <td>2017-11-04 16:00:00</td>\n",
              "      <td>Bad</td>\n",
              "      <td>2760</td>\n",
              "    </tr>\n",
              "    <tr>\n",
              "      <td>52</td>\n",
              "      <td>2017-11-18 12:00:00</td>\n",
              "      <td>Bad</td>\n",
              "      <td>2460</td>\n",
              "    </tr>\n",
              "    <tr>\n",
              "      <td>...</td>\n",
              "      <td>...</td>\n",
              "      <td>...</td>\n",
              "      <td>...</td>\n",
              "    </tr>\n",
              "    <tr>\n",
              "      <td>1031</td>\n",
              "      <td>2017-11-18 12:00:00</td>\n",
              "      <td>Bad</td>\n",
              "      <td>2560</td>\n",
              "    </tr>\n",
              "    <tr>\n",
              "      <td>1032</td>\n",
              "      <td>2017-11-18 10:00:00</td>\n",
              "      <td>Bad</td>\n",
              "      <td>1908</td>\n",
              "    </tr>\n",
              "    <tr>\n",
              "      <td>1053</td>\n",
              "      <td>2017-11-18 12:00:00</td>\n",
              "      <td>Bad</td>\n",
              "      <td>2400</td>\n",
              "    </tr>\n",
              "    <tr>\n",
              "      <td>1061</td>\n",
              "      <td>2017-11-18 16:00:00</td>\n",
              "      <td>Bad</td>\n",
              "      <td>2186</td>\n",
              "    </tr>\n",
              "    <tr>\n",
              "      <td>1067</td>\n",
              "      <td>2017-11-04 16:00:00</td>\n",
              "      <td>Bad</td>\n",
              "      <td>2834</td>\n",
              "    </tr>\n",
              "  </tbody>\n",
              "</table>\n",
              "<p>180 rows × 3 columns</p>\n",
              "</div>"
            ],
            "text/plain": [
              "                start_ts weather_conditions  duration_seconds\n",
              "6    2017-11-04 16:00:00                Bad              2969\n",
              "30   2017-11-18 12:00:00                Bad              1980\n",
              "34   2017-11-04 17:00:00                Bad              2460\n",
              "51   2017-11-04 16:00:00                Bad              2760\n",
              "52   2017-11-18 12:00:00                Bad              2460\n",
              "...                  ...                ...               ...\n",
              "1031 2017-11-18 12:00:00                Bad              2560\n",
              "1032 2017-11-18 10:00:00                Bad              1908\n",
              "1053 2017-11-18 12:00:00                Bad              2400\n",
              "1061 2017-11-18 16:00:00                Bad              2186\n",
              "1067 2017-11-04 16:00:00                Bad              2834\n",
              "\n",
              "[180 rows x 3 columns]"
            ]
          },
          "execution_count": 26,
          "metadata": {},
          "output_type": "execute_result"
        }
      ]
    },
    {
      "cell_type": "code",
      "metadata": {
        "colab": {
          "base_uri": "https://localhost:8080/",
          "height": 419
        },
        "id": "H3hB4xV0hgnI",
        "outputId": "b946631d-9b75-48ed-a5cb-5d493e1ca14d"
      },
      "source": [
        "data_without = data_07.query('~(weather_conditions ==  \"Bad\" and start_ts.dt.weekday == 5)')\n",
        "data_without"
      ],
      "execution_count": null,
      "outputs": [
        {
          "data": {
            "text/html": [
              "<div>\n",
              "<style scoped>\n",
              "    .dataframe tbody tr th:only-of-type {\n",
              "        vertical-align: middle;\n",
              "    }\n",
              "\n",
              "    .dataframe tbody tr th {\n",
              "        vertical-align: top;\n",
              "    }\n",
              "\n",
              "    .dataframe thead th {\n",
              "        text-align: right;\n",
              "    }\n",
              "</style>\n",
              "<table border=\"1\" class=\"dataframe\">\n",
              "  <thead>\n",
              "    <tr style=\"text-align: right;\">\n",
              "      <th></th>\n",
              "      <th>start_ts</th>\n",
              "      <th>weather_conditions</th>\n",
              "      <th>duration_seconds</th>\n",
              "    </tr>\n",
              "  </thead>\n",
              "  <tbody>\n",
              "    <tr>\n",
              "      <td>0</td>\n",
              "      <td>2017-11-25 16:00:00</td>\n",
              "      <td>Good</td>\n",
              "      <td>2410</td>\n",
              "    </tr>\n",
              "    <tr>\n",
              "      <td>1</td>\n",
              "      <td>2017-11-25 14:00:00</td>\n",
              "      <td>Good</td>\n",
              "      <td>1920</td>\n",
              "    </tr>\n",
              "    <tr>\n",
              "      <td>2</td>\n",
              "      <td>2017-11-25 12:00:00</td>\n",
              "      <td>Good</td>\n",
              "      <td>1543</td>\n",
              "    </tr>\n",
              "    <tr>\n",
              "      <td>3</td>\n",
              "      <td>2017-11-04 10:00:00</td>\n",
              "      <td>Good</td>\n",
              "      <td>2512</td>\n",
              "    </tr>\n",
              "    <tr>\n",
              "      <td>4</td>\n",
              "      <td>2017-11-11 07:00:00</td>\n",
              "      <td>Good</td>\n",
              "      <td>1440</td>\n",
              "    </tr>\n",
              "    <tr>\n",
              "      <td>...</td>\n",
              "      <td>...</td>\n",
              "      <td>...</td>\n",
              "      <td>...</td>\n",
              "    </tr>\n",
              "    <tr>\n",
              "      <td>1060</td>\n",
              "      <td>2017-11-04 14:00:00</td>\n",
              "      <td>Good</td>\n",
              "      <td>2700</td>\n",
              "    </tr>\n",
              "    <tr>\n",
              "      <td>1062</td>\n",
              "      <td>2017-11-11 06:00:00</td>\n",
              "      <td>Good</td>\n",
              "      <td>1500</td>\n",
              "    </tr>\n",
              "    <tr>\n",
              "      <td>1064</td>\n",
              "      <td>2017-11-11 10:00:00</td>\n",
              "      <td>Good</td>\n",
              "      <td>1318</td>\n",
              "    </tr>\n",
              "    <tr>\n",
              "      <td>1065</td>\n",
              "      <td>2017-11-11 13:00:00</td>\n",
              "      <td>Good</td>\n",
              "      <td>2100</td>\n",
              "    </tr>\n",
              "    <tr>\n",
              "      <td>1066</td>\n",
              "      <td>2017-11-11 08:00:00</td>\n",
              "      <td>Good</td>\n",
              "      <td>1380</td>\n",
              "    </tr>\n",
              "  </tbody>\n",
              "</table>\n",
              "<p>882 rows × 3 columns</p>\n",
              "</div>"
            ],
            "text/plain": [
              "                start_ts weather_conditions  duration_seconds\n",
              "0    2017-11-25 16:00:00               Good              2410\n",
              "1    2017-11-25 14:00:00               Good              1920\n",
              "2    2017-11-25 12:00:00               Good              1543\n",
              "3    2017-11-04 10:00:00               Good              2512\n",
              "4    2017-11-11 07:00:00               Good              1440\n",
              "...                  ...                ...               ...\n",
              "1060 2017-11-04 14:00:00               Good              2700\n",
              "1062 2017-11-11 06:00:00               Good              1500\n",
              "1064 2017-11-11 10:00:00               Good              1318\n",
              "1065 2017-11-11 13:00:00               Good              2100\n",
              "1066 2017-11-11 08:00:00               Good              1380\n",
              "\n",
              "[882 rows x 3 columns]"
            ]
          },
          "execution_count": 27,
          "metadata": {},
          "output_type": "execute_result"
        }
      ]
    },
    {
      "cell_type": "markdown",
      "metadata": {
        "id": "zfLUCBOvctws"
      },
      "source": [
        "Test the hypothesis:\n",
        "\"The average duration of rides from the Loop to O'Hare International Airport changes on rainy Saturdays.\"\n",
        "\n",
        "using the standard alpha 5% and the test Independent Sample T-Test. In this type of test, you are comparing the average of two independent unrelated groups. Meaning, you are comparing samples from two different populations and are testing whether or not they have a different average.\n",
        "\n",
        "H0: The average duration of rides from the Loop to O'Hare International Airport changes on rainy Saturdays.\n",
        "\n",
        "H1: The average duration of rides from the Loop to O'Hare International Airport doesn't changes on rainy Saturdays."
      ]
    },
    {
      "cell_type": "code",
      "metadata": {
        "colab": {
          "base_uri": "https://localhost:8080/"
        },
        "id": "d2mGr-m5ct_y",
        "outputId": "ebb49e54-bc2c-41af-bf5d-f2edf6426d68"
      },
      "source": [
        "alpha = 0.05\n",
        "results = st.ttest_ind(filter_data[\"duration_seconds\"], data_without[\"duration_seconds\"])\n",
        "print('p-value: ', results.pvalue)\n",
        "\n",
        "if results.pvalue < alpha:\n",
        "    print(\"We reject the null hypothesis that the average duration of rides from the Loop to O'Hare International Airport changes on rainy Saturdays.\")\n",
        "else:\n",
        "    print(\"'We can't reject the null hypothesis that The average duration of rides from the Loop to O'Hare International Airport changes on rainy Saturdays.\")"
      ],
      "execution_count": null,
      "outputs": [
        {
          "name": "stdout",
          "output_type": "stream",
          "text": [
            "p-value:  1.3318772977743245e-11\n",
            "We reject the null hypothesis that the average duration of rides from the Loop to O'Hare International Airport changes on rainy Saturdays.\n"
          ]
        }
      ]
    },
    {
      "cell_type": "markdown",
      "metadata": {
        "id": "YQkhC0ZouKia"
      },
      "source": [
        "in conclusion we changed the data types and removed the duplicates, and we found the most popular texi companies and the most popular drop off citys and we found that there is no connection between durashen of trips deppends of whether"
      ]
    }
  ]
}